{
  "cells": [
    {
      "cell_type": "markdown",
      "source": [
        "# Reinforcement Learning\n",
        "\n",
        "This script implements a reinforcement learning setup with a DQN (Deep Q-Network) for a simple grid-based game, where the goal is for the agent to navigate a grid to reach a goal position.  \n",
        "\n",
        "The grid size is defined by `d_state`, which determines the dimensions of the grid (e.g., a 5x5 grid if `d_state = 5`).\n",
        "\n",
        "Each state in this environment is a vector that flattens the 2D grid into a 1D array.\n",
        "\n",
        "The agent has a fixed number of possible actions, specified by `action_size`. For instance, if `action_size = 4`, the actions could correspond to moving up, down, left, or right within the grid.\n",
        "\n"
      ],
      "metadata": {
        "id": "R4BEM6-wJih0"
      }
    },
    {
      "cell_type": "markdown",
      "source": [
        "![py_game.png](data:image/png;base64,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)"
      ],
      "metadata": {
        "id": "pcES8gspJOnb"
      }
    },
    {
      "cell_type": "markdown",
      "source": [
        "# key parameters for  reinforcement learning"
      ],
      "metadata": {
        "id": "aWJ7qERNPacZ"
      }
    },
    {
      "cell_type": "code",
      "source": [
        "import torch\n",
        "import torch.nn as nn\n",
        "import torch.optim as optim\n",
        "import torch.nn.functional as F\n",
        "import random\n",
        "import time\n",
        "import math\n",
        "import torch\n",
        "import torch.nn as nn\n",
        "import torch.optim as optim\n",
        "import torch.nn.functional as F\n",
        "import random\n",
        "import time\n",
        "import math\n",
        "\n",
        "\n",
        "# Initialize device properly\n",
        "# device = \"cuda\" if torch.cuda.is_available() else \"mps\" if torch.backends.mps.is_available() else \"cpu\"\n",
        "device = 'cpu'\n",
        "print(f\"Using device: {device}\")\n",
        "\n",
        "num_episodes = 10000\n",
        "d_state = 5\n",
        "action_size = 4\n",
        "discount_rate = 0.9\n",
        "learning_rate = 1e-3 # 5e-4 -> 1e-3\n",
        "eps_start = 1\n",
        "eps_end = 0.01\n",
        "eps_decay = 1500\n",
        "time_step_reward = -1\n",
        "dropout = 0.2\n",
        "r_scaling = 2"
      ],
      "metadata": {
        "colab": {
          "base_uri": "https://localhost:8080/"
        },
        "id": "Nv8EMcgHLW4d",
        "outputId": "b05bb9f9-3ef4-466c-88fe-4f75a8015695"
      },
      "execution_count": null,
      "outputs": [
        {
          "output_type": "stream",
          "name": "stdout",
          "text": [
            "Using device: cpu\n"
          ]
        }
      ]
    },
    {
      "cell_type": "markdown",
      "source": [
        "# Neural Network for Q-Learning\n",
        "\n",
        "* A simple feedforward network with one hidden layer, ReLU activation, and dropout.\n",
        "* Kaiming He initialization is used for better performance with ReLU activation."
      ],
      "metadata": {
        "id": "zJ_EKVDSLkBD"
      }
    },
    {
      "cell_type": "code",
      "source": [
        "\n",
        "class DQN(nn.Module):\n",
        "    def __init__(self, input_size, output_size):\n",
        "        super(DQN, self).__init__()\n",
        "        self.net = nn.Sequential(\n",
        "            nn.Linear(input_size, 128),\n",
        "            nn.ReLU(),\n",
        "            nn.Linear(128, output_size)\n",
        "        )\n",
        "\n",
        "        self.dropout = nn.Dropout(p=dropout)\n",
        "        # Initialize weights using Kaiming He initialization for ReLU\n",
        "        nn.init.kaiming_uniform_(self.net[0].weight, nonlinearity='relu')\n",
        "        nn.init.kaiming_uniform_(self.net[2].weight, nonlinearity='relu')\n",
        "\n",
        "    def forward(self, x):\n",
        "        out = self.dropout(self.net(x))\n",
        "        return out"
      ],
      "metadata": {
        "id": "YSUMnTfpLi7R"
      },
      "execution_count": null,
      "outputs": []
    },
    {
      "cell_type": "markdown",
      "source": [
        "# GridGame Class:\n",
        "\n",
        "* Represents the game environment, including state representation, action execution, and reward calculation.\n",
        "* The step method calculates rewards based on the distance to the goal and updates the state."
      ],
      "metadata": {
        "id": "BqnGstcnMOtp"
      }
    },
    {
      "cell_type": "code",
      "source": [
        "class GridGame:\n",
        "    def __init__(self, model):\n",
        "        self.state_size = d_state ** 2\n",
        "        self.action_size = action_size\n",
        "        self.model = model\n",
        "        self.reset()\n",
        "        self.optimizer = optim.AdamW(model.parameters(), lr=learning_rate)\n",
        "        self.criterion = nn.MSELoss()\n",
        "\n",
        "    def reset(self):\n",
        "        self.player_pos = (random.randint(0, d_state - 1), random.randint(0, d_state - 1))\n",
        "        self.goal_pos = (random.randint(0, d_state - 1), random.randint(0, d_state - 1))\n",
        "        while self.goal_pos == self.player_pos:\n",
        "            self.goal_pos = (random.randint(0, d_state - 1), random.randint(0, d_state - 1))\n",
        "        self.done = False\n",
        "        self.state = self.get_state()\n",
        "\n",
        "    def get_state(self):\n",
        "        state = torch.zeros((d_state, d_state), device=device)\n",
        "        state[self.player_pos[0], self.player_pos[1]] = 1\n",
        "        state[self.goal_pos[0], self.goal_pos[1]] = 2\n",
        "        return state.flatten().unsqueeze(0)\n",
        "\n",
        "    def calculate_distance(self):\n",
        "        # Convert the differences to tensors before calculating the distance\n",
        "        a = torch.tensor((self.player_pos[0] - self.goal_pos[0])**2, device=device, dtype=torch.float)\n",
        "        b = torch.tensor((self.player_pos[1] - self.goal_pos[1])**2, device=device, dtype=torch.float)\n",
        "        return torch.sqrt(a + b)\n",
        "\n",
        "    def step(self, action):\n",
        "        moves = [(-1, 0), (1, 0), (0, -1), (0, 1)]  # Up, Down, Left, Right\n",
        "        move = moves[action]\n",
        "        prev_distance = self.calculate_distance()\n",
        "        self.player_pos = ((self.player_pos[0] + move[0]) % d_state, (self.player_pos[1] + move[1]) % d_state)\n",
        "        new_distance = self.calculate_distance()\n",
        "\n",
        "        reward = time_step_reward  # Penalize each step to encourage efficiency\n",
        "        delta_distance = prev_distance - new_distance\n",
        "\n",
        "        if delta_distance > 0:\n",
        "            reward += 3*delta_distance/d_state\n",
        "        else:\n",
        "            reward -= delta_distance/d_state\n",
        "\n",
        "        if self.player_pos == self.goal_pos:\n",
        "            reward += 100  # Large reward for reaching the goal\n",
        "            self.done = True\n",
        "\n",
        "        new_state = self.get_state()\n",
        "        return new_state, reward, self.done\n",
        "\n",
        "    def train_step(self, state, action, reward, next_state, done):\n",
        "        action = action.view(1, -1)\n",
        "        reward = torch.tensor([reward], device=device, dtype=torch.float)\n",
        "        done = torch.tensor([done], device=device, dtype=torch.float)\n",
        "\n",
        "        state_action_values = self.model(state).gather(1, action)\n",
        "        next_state_values = self.model(next_state).max(1)[0].detach()\n",
        "\n",
        "        expected_state_action_values = (next_state_values * discount_rate) * (1 - done) + torch.tanh(reward)*r_scaling\n",
        "\n",
        "        loss = self.criterion(state_action_values, expected_state_action_values.unsqueeze(1))\n",
        "        self.optimizer.zero_grad()\n",
        "        loss.backward()\n",
        "        self.optimizer.step()"
      ],
      "metadata": {
        "id": "_iLQ8Y8nL14m"
      },
      "execution_count": null,
      "outputs": []
    },
    {
      "cell_type": "markdown",
      "source": [
        "# Select Action Function\n",
        "\n",
        "*  The select_action function determines which action the agent should take given the current state and episode number. It balances exploration and exploitation based on the current value of epsilon.\n",
        "\n",
        "\n",
        "* Epsilon Decay: The epsilon_by_episode function ensures a gradual shift from exploration to exploitation during training by adjusting epsilon over episodes."
      ],
      "metadata": {
        "id": "krjMj2MOOO2C"
      }
    },
    {
      "cell_type": "code",
      "source": [
        "def select_action(state, policy_net, episode):\n",
        "    eps_threshold = epsilon_by_episode(episode)\n",
        "    if random.random() > eps_threshold:\n",
        "        with torch.no_grad():\n",
        "            return policy_net(state).max(1)[1].view(1, 1)\n",
        "    else:\n",
        "        return torch.tensor([[random.randrange(action_size)]], device=device, dtype=torch.long)\n",
        "\n",
        "# Epsilon decay function\n",
        "def epsilon_by_episode(episode):\n",
        "    return eps_end + (eps_start - eps_end) * math.exp(-1. * episode / eps_decay)\n"
      ],
      "metadata": {
        "id": "BQx7ITJgMvYY"
      },
      "execution_count": null,
      "outputs": []
    },
    {
      "cell_type": "markdown",
      "source": [
        "# Training Loop\n",
        "\n",
        "this loop iterates through multiple episodes, with each episode involving resetting the environment, selecting and executing actions, and updating the policy network based on the observed rewards and state transitions. The goal is for the agent to learn an effective policy by maximizing its total reward over many episodes."
      ],
      "metadata": {
        "id": "DZk2W9EXQcUK"
      }
    },
    {
      "cell_type": "code",
      "execution_count": null,
      "metadata": {
        "colab": {
          "base_uri": "https://localhost:8080/"
        },
        "id": "Na8jzwQDM2rh",
        "outputId": "9e798f5f-d756-4ef8-d1f6-ce21d38d4d9c"
      },
      "outputs": [
        {
          "output_type": "stream",
          "name": "stdout",
          "text": [
            "Episode 0: Total Reward: 56.75, Epsilon: 1.00\n",
            "Episode 100: Total Reward: 87.91, Epsilon: 0.94\n",
            "Episode 200: Total Reward: 97.80, Epsilon: 0.88\n",
            "Episode 300: Total Reward: 80.74, Epsilon: 0.82\n",
            "Episode 400: Total Reward: 75.94, Epsilon: 0.77\n",
            "Episode 500: Total Reward: 96.49, Epsilon: 0.72\n",
            "Episode 600: Total Reward: 72.66, Epsilon: 0.67\n",
            "Episode 700: Total Reward: 98.34, Epsilon: 0.63\n",
            "Episode 800: Total Reward: -11.40, Epsilon: 0.59\n",
            "Episode 900: Total Reward: 94.27, Epsilon: 0.55\n",
            "Episode 1000: Total Reward: 83.64, Epsilon: 0.52\n",
            "Episode 1100: Total Reward: 90.32, Epsilon: 0.49\n",
            "Episode 1200: Total Reward: 91.17, Epsilon: 0.45\n",
            "Episode 1300: Total Reward: 95.79, Epsilon: 0.43\n",
            "Episode 1400: Total Reward: 96.00, Epsilon: 0.40\n",
            "Episode 1500: Total Reward: 94.89, Epsilon: 0.37\n",
            "Episode 1600: Total Reward: 100.47, Epsilon: 0.35\n",
            "Episode 1700: Total Reward: 97.60, Epsilon: 0.33\n",
            "Episode 1800: Total Reward: 92.78, Epsilon: 0.31\n",
            "Episode 1900: Total Reward: 97.51, Epsilon: 0.29\n",
            "Episode 2000: Total Reward: 98.77, Epsilon: 0.27\n",
            "Episode 2100: Total Reward: 92.14, Epsilon: 0.25\n",
            "Episode 2200: Total Reward: 82.19, Epsilon: 0.24\n",
            "Episode 2300: Total Reward: 97.50, Epsilon: 0.22\n",
            "Episode 2400: Total Reward: 98.28, Epsilon: 0.21\n",
            "Episode 2500: Total Reward: 90.31, Epsilon: 0.20\n",
            "Episode 2600: Total Reward: 97.06, Epsilon: 0.18\n",
            "Episode 2700: Total Reward: 97.51, Epsilon: 0.17\n",
            "Episode 2800: Total Reward: 94.63, Epsilon: 0.16\n",
            "Episode 2900: Total Reward: 99.60, Epsilon: 0.15\n",
            "Episode 3000: Total Reward: 101.40, Epsilon: 0.14\n",
            "Episode 3100: Total Reward: 97.90, Epsilon: 0.14\n",
            "Episode 3200: Total Reward: 96.27, Epsilon: 0.13\n",
            "Episode 3300: Total Reward: 98.34, Epsilon: 0.12\n",
            "Episode 3400: Total Reward: 93.85, Epsilon: 0.11\n",
            "Episode 3500: Total Reward: 97.16, Epsilon: 0.11\n",
            "Episode 3600: Total Reward: 90.24, Epsilon: 0.10\n",
            "Episode 3700: Total Reward: 97.00, Epsilon: 0.09\n",
            "Episode 3800: Total Reward: 99.20, Epsilon: 0.09\n",
            "Episode 3900: Total Reward: 99.40, Epsilon: 0.08\n",
            "Episode 4000: Total Reward: 97.65, Epsilon: 0.08\n",
            "Episode 4100: Total Reward: 93.42, Epsilon: 0.07\n",
            "Episode 4200: Total Reward: 99.60, Epsilon: 0.07\n",
            "Episode 4300: Total Reward: 97.45, Epsilon: 0.07\n",
            "Episode 4400: Total Reward: 94.29, Epsilon: 0.06\n",
            "Episode 4500: Total Reward: 94.20, Epsilon: 0.06\n",
            "Episode 4600: Total Reward: 101.39, Epsilon: 0.06\n",
            "Episode 4700: Total Reward: 99.60, Epsilon: 0.05\n",
            "Episode 4800: Total Reward: 99.60, Epsilon: 0.05\n",
            "Episode 4900: Total Reward: 98.08, Epsilon: 0.05\n",
            "Episode 5000: Total Reward: 97.37, Epsilon: 0.05\n",
            "Episode 5100: Total Reward: 99.60, Epsilon: 0.04\n",
            "Episode 5200: Total Reward: 99.80, Epsilon: 0.04\n",
            "Episode 5300: Total Reward: 97.13, Epsilon: 0.04\n",
            "Episode 5400: Total Reward: 99.48, Epsilon: 0.04\n",
            "Episode 5500: Total Reward: 98.90, Epsilon: 0.04\n",
            "Episode 5600: Total Reward: 98.85, Epsilon: 0.03\n",
            "Episode 5700: Total Reward: 91.68, Epsilon: 0.03\n",
            "Episode 5800: Total Reward: 89.24, Epsilon: 0.03\n",
            "Episode 5900: Total Reward: 94.83, Epsilon: 0.03\n",
            "Episode 6000: Total Reward: 94.66, Epsilon: 0.03\n",
            "Episode 6100: Total Reward: 97.25, Epsilon: 0.03\n",
            "Episode 6200: Total Reward: 97.14, Epsilon: 0.03\n",
            "Episode 6300: Total Reward: 95.54, Epsilon: 0.02\n",
            "Episode 6400: Total Reward: 98.34, Epsilon: 0.02\n",
            "Episode 6500: Total Reward: 97.47, Epsilon: 0.02\n",
            "Episode 6600: Total Reward: 99.60, Epsilon: 0.02\n",
            "Episode 6700: Total Reward: 99.00, Epsilon: 0.02\n",
            "Episode 6800: Total Reward: 97.25, Epsilon: 0.02\n",
            "Episode 6900: Total Reward: 99.85, Epsilon: 0.02\n",
            "Episode 7000: Total Reward: 94.11, Epsilon: 0.02\n",
            "Episode 7100: Total Reward: 99.80, Epsilon: 0.02\n",
            "Episode 7200: Total Reward: 98.41, Epsilon: 0.02\n",
            "Episode 7300: Total Reward: 98.01, Epsilon: 0.02\n",
            "Episode 7400: Total Reward: 98.40, Epsilon: 0.02\n",
            "Episode 7500: Total Reward: 98.42, Epsilon: 0.02\n",
            "Episode 7600: Total Reward: 91.73, Epsilon: 0.02\n",
            "Episode 7700: Total Reward: 98.87, Epsilon: 0.02\n",
            "Episode 7800: Total Reward: 94.88, Epsilon: 0.02\n",
            "Episode 7900: Total Reward: 94.44, Epsilon: 0.02\n",
            "Episode 8000: Total Reward: 98.90, Epsilon: 0.01\n",
            "Episode 8100: Total Reward: 99.60, Epsilon: 0.01\n",
            "Episode 8200: Total Reward: 98.20, Epsilon: 0.01\n",
            "Episode 8300: Total Reward: 97.51, Epsilon: 0.01\n",
            "Episode 8400: Total Reward: 99.60, Epsilon: 0.01\n",
            "Episode 8500: Total Reward: 99.60, Epsilon: 0.01\n",
            "Episode 8600: Total Reward: 101.40, Epsilon: 0.01\n",
            "Episode 8700: Total Reward: 101.40, Epsilon: 0.01\n",
            "Episode 8800: Total Reward: 99.40, Epsilon: 0.01\n",
            "Episode 8900: Total Reward: 99.80, Epsilon: 0.01\n",
            "Episode 9000: Total Reward: 99.60, Epsilon: 0.01\n",
            "Episode 9100: Total Reward: 99.13, Epsilon: 0.01\n",
            "Episode 9200: Total Reward: 97.59, Epsilon: 0.01\n",
            "Episode 9300: Total Reward: 94.29, Epsilon: 0.01\n",
            "Episode 9400: Total Reward: 99.67, Epsilon: 0.01\n",
            "Episode 9500: Total Reward: 99.60, Epsilon: 0.01\n",
            "Episode 9600: Total Reward: 96.50, Epsilon: 0.01\n",
            "Episode 9700: Total Reward: 97.90, Epsilon: 0.01\n",
            "Episode 9800: Total Reward: 98.90, Epsilon: 0.01\n",
            "Episode 9900: Total Reward: 99.60, Epsilon: 0.01\n",
            "Training took 191.11182045936584 seconds\n",
            "Model saved\n"
          ]
        }
      ],
      "source": [
        "policy_net = DQN(d_state ** 2, action_size)\n",
        "game = GridGame(policy_net)\n",
        "\n",
        "\n",
        "start_time = time.time()\n",
        "policy_net.train()\n",
        "\n",
        "try:\n",
        "    for episode in range(num_episodes):\n",
        "        game.reset()\n",
        "        total_reward = 0\n",
        "        while not game.done:\n",
        "            state = game.state\n",
        "            action = select_action(state, policy_net, episode)\n",
        "            next_state, reward, done = game.step(action.item())\n",
        "            game.train_step(state, action, reward, next_state, done)\n",
        "            game.state = next_state\n",
        "            total_reward += reward\n",
        "\n",
        "        if episode % 100 == 0:\n",
        "            print(f\"Episode {episode}: Total Reward: {total_reward:.2f}, Epsilon: {epsilon_by_episode(episode):.2f}\")\n",
        "\n",
        "except KeyboardInterrupt:\n",
        "    print(\"Training stopped\")\n",
        "\n",
        "finally:\n",
        "    print(f'Training took {time.time() - start_time} seconds')\n",
        "\n",
        "torch.save(policy_net.state_dict(), 'model-v0.pth')\n",
        "print('Model saved')"
      ]
    },
    {
      "cell_type": "markdown",
      "source": [
        "# Testing the performance of the trained reinforcement learning model"
      ],
      "metadata": {
        "id": "zLWOr2EVSsQt"
      }
    },
    {
      "cell_type": "code",
      "source": [
        "policy_net.eval()\n",
        "episode_moves = []\n",
        "try:\n",
        "    for x in range(100):\n",
        "        game.reset()\n",
        "        total_reward = 0\n",
        "        episode_moves.append(0)\n",
        "        while not game.done:\n",
        "            state = game.state\n",
        "            action = select_action(state, policy_net, 100000)\n",
        "            next_state, reward, done = game.step(action.item())\n",
        "            game.state = next_state\n",
        "            total_reward += reward\n",
        "            episode_moves[x] += 1\n",
        "\n",
        "        print(f\"Total Reward: {total_reward}\")\n",
        "\n",
        "except KeyboardInterrupt:\n",
        "    print(\"Testing stopped\")\n"
      ],
      "metadata": {
        "colab": {
          "base_uri": "https://localhost:8080/"
        },
        "id": "fXozvHMhRq2Q",
        "outputId": "e3ceb5f2-6b85-422e-fda7-60440640262a"
      },
      "execution_count": null,
      "outputs": [
        {
          "output_type": "stream",
          "name": "stdout",
          "text": [
            "Total Reward: 98.34163665771484\n",
            "Total Reward: 99.66603088378906\n",
            "Total Reward: 98.34163665771484\n",
            "Total Reward: 97.69705200195312\n",
            "Total Reward: 101.39411163330078\n",
            "Total Reward: 96.43722534179688\n",
            "Total Reward: 97.1187515258789\n",
            "Total Reward: 96.54009246826172\n",
            "Total Reward: 99.66603088378906\n",
            "Total Reward: 97.34163665771484\n",
            "Total Reward: 99.5999984741211\n",
            "Total Reward: 98.34163665771484\n",
            "Total Reward: 99.66603088378906\n",
            "Total Reward: 98.8973617553711\n",
            "Total Reward: 101.4000015258789\n",
            "Total Reward: 99.5999984741211\n",
            "Total Reward: 25.90019989013672\n",
            "Total Reward: 97.43801879882812\n",
            "Total Reward: 99.5999984741211\n",
            "Total Reward: 96.36177825927734\n",
            "Total Reward: 99.95147705078125\n",
            "Total Reward: 97.69705200195312\n",
            "Total Reward: 98.85659790039062\n",
            "Total Reward: 97.96333312988281\n",
            "Total Reward: 99.19999694824219\n",
            "Total Reward: 99.19999694824219\n",
            "Total Reward: 99.5999984741211\n",
            "Total Reward: 98.34163665771484\n",
            "Total Reward: 100.5999984741211\n",
            "Total Reward: 98.163330078125\n",
            "Total Reward: 100.5999984741211\n",
            "Total Reward: 100.5999984741211\n",
            "Total Reward: 98.79999542236328\n",
            "Total Reward: 99.5999984741211\n",
            "Total Reward: 99.15147399902344\n",
            "Total Reward: 97.34163665771484\n",
            "Total Reward: 99.5999984741211\n",
            "Total Reward: 100.47386169433594\n",
            "Total Reward: 99.79999542236328\n",
            "Total Reward: 100.47386169433594\n",
            "Total Reward: 99.79999542236328\n",
            "Total Reward: 99.19999694824219\n",
            "Total Reward: 99.66603088378906\n",
            "Total Reward: 99.5999984741211\n",
            "Total Reward: 99.19999694824219\n",
            "Total Reward: 99.66603088378906\n",
            "Total Reward: 99.19999694824219\n",
            "Total Reward: 99.79999542236328\n",
            "Total Reward: 99.79999542236328\n",
            "Total Reward: 100.47386169433594\n",
            "Total Reward: 98.84852600097656\n",
            "Total Reward: 98.34163665771484\n",
            "Total Reward: 98.79999542236328\n",
            "Total Reward: 99.66603088378906\n",
            "Total Reward: 98.34163665771484\n",
            "Total Reward: 99.19999694824219\n",
            "Total Reward: 100.0\n",
            "Total Reward: 99.5999984741211\n",
            "Total Reward: 98.85659790039062\n",
            "Total Reward: 98.85127258300781\n",
            "Total Reward: 98.84852600097656\n",
            "Total Reward: 101.4000015258789\n",
            "Total Reward: 101.4000015258789\n",
            "Total Reward: 98.85659790039062\n",
            "Total Reward: 100.47386169433594\n",
            "Total Reward: 100.47386169433594\n",
            "Total Reward: 45.35957717895508\n",
            "Total Reward: 98.08260345458984\n",
            "Total Reward: 99.19999694824219\n",
            "Total Reward: 99.5999984741211\n",
            "Total Reward: 99.19999694824219\n",
            "Total Reward: 98.34163665771484\n",
            "Total Reward: 100.47386169433594\n",
            "Total Reward: 99.66603088378906\n",
            "Total Reward: 99.80000305175781\n",
            "Total Reward: 96.43722534179688\n",
            "Total Reward: 99.5999984741211\n",
            "Total Reward: 99.19999694824219\n",
            "Total Reward: 100.47386169433594\n",
            "Total Reward: 98.84852600097656\n",
            "Total Reward: 98.19999694824219\n",
            "Total Reward: 99.5999984741211\n",
            "Total Reward: 99.5999984741211\n",
            "Total Reward: 97.1187515258789\n",
            "Total Reward: 98.8973617553711\n",
            "Total Reward: 99.68328094482422\n",
            "Total Reward: 99.66603088378906\n",
            "Total Reward: 98.163330078125\n",
            "Total Reward: 99.15147399902344\n",
            "Total Reward: 97.69705200195312\n",
            "Total Reward: 81.99944305419922\n",
            "Total Reward: 100.5999984741211\n",
            "Total Reward: 97.163330078125\n",
            "Total Reward: 98.84852600097656\n",
            "Total Reward: 99.0\n",
            "Total Reward: 100.80000305175781\n",
            "Total Reward: 100.47386169433594\n",
            "Total Reward: 99.19999694824219\n",
            "Total Reward: 98.34163665771484\n",
            "Total Reward: 99.5999984741211\n",
            "Average moves: 6.54\n"
          ]
        }
      ]
    },
    {
      "cell_type": "code",
      "source": [
        "print(f\"Average moves: {sum(episode_moves)/len(episode_moves)}\")"
      ],
      "metadata": {
        "id": "5IpObzeXi7v7",
        "outputId": "291cab11-8dc6-47a2-9a77-cb6d9dc30cbd",
        "colab": {
          "base_uri": "https://localhost:8080/"
        }
      },
      "execution_count": null,
      "outputs": [
        {
          "output_type": "stream",
          "name": "stdout",
          "text": [
            "Average moves: 6.54\n"
          ]
        }
      ]
    }
  ],
  "metadata": {
    "kernelspec": {
      "display_name": "rl",
      "language": "python",
      "name": "python3"
    },
    "language_info": {
      "codemirror_mode": {
        "name": "ipython",
        "version": 3
      },
      "file_extension": ".py",
      "mimetype": "text/x-python",
      "name": "python",
      "nbconvert_exporter": "python",
      "pygments_lexer": "ipython3",
      "version": "3.11.7"
    },
    "colab": {
      "provenance": []
    }
  },
  "nbformat": 4,
  "nbformat_minor": 0
}