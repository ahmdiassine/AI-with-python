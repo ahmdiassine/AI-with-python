{
  "nbformat": 4,
  "nbformat_minor": 0,
  "metadata": {
    "colab": {
      "provenance": []
    },
    "kernelspec": {
      "name": "python3",
      "display_name": "Python 3"
    },
    "language_info": {
      "name": "python"
    }
  },
  "cells": [
    {
      "cell_type": "markdown",
      "source": [
        "# Image Classification with Traditional Methods"
      ],
      "metadata": {
        "id": "rp7wY_K2kc1L"
      }
    },
    {
      "cell_type": "markdown",
      "source": [
        "### Extract HOG features for training and testing data"
      ],
      "metadata": {
        "id": "CpVMneV2knSD"
      }
    },
    {
      "cell_type": "code",
      "source": [
        "import numpy as np\n",
        "from sklearn.neighbors import KNeighborsClassifier\n",
        "from skimage.feature import hog\n",
        "from skimage import color\n",
        "from sklearn.metrics import accuracy_score\n",
        "from tensorflow.keras.datasets import cifar10\n",
        "\n",
        "# Load CIFAR-10 dataset\n",
        "(x_train, y_train), (x_test, y_test) = cifar10.load_data()\n",
        "\n",
        "# Define HOG feature extraction function\n",
        "def extract_hog_features(images):\n",
        "    hog_features = []\n",
        "    for img in images:\n",
        "        img_gray = color.rgb2gray(img)  # Convert to grayscale\n",
        "        features = hog(img_gray, pixels_per_cell=(8, 8),\n",
        "                        cells_per_block=(2, 2), block_norm='L2-Hys', visualize=False)\n",
        "        hog_features.append(features)\n",
        "    return np.array(hog_features)\n",
        "\n",
        "\n",
        "print(\"Extracting HOG features for training data...\")\n",
        "X_train_hog = extract_hog_features(x_train)\n",
        "print(\"Extracting HOG features for testing data...\")\n",
        "X_test_hog = extract_hog_features(x_test)\n"
      ],
      "metadata": {
        "id": "qnrtl0LW-xR1"
      },
      "execution_count": null,
      "outputs": []
    },
    {
      "cell_type": "markdown",
      "source": [
        "### Initialize a list of arrays for each class (0 to 9)"
      ],
      "metadata": {
        "id": "PA00eG2ykyqS"
      }
    },
    {
      "cell_type": "code",
      "source": [
        "\n",
        "num_classes = 10\n",
        "hog_features_by_class = [np.array([]).reshape(0, X_train_hog.shape[1]) for _ in range(num_classes)]\n",
        "hog_features_by_class_test = [np.array([]).reshape(0, X_test_hog.shape[1]) for _ in range(num_classes)]\n",
        "\n",
        "# Populate the lists with HOG features\n",
        "for i in range(num_classes):\n",
        "    # Select indices where the label is i\n",
        "    indices = np.where(y_train.flatten() == i)[0]\n",
        "    indices0 = np.where(y_test.flatten() == i)[0]\n",
        "    # Append the corresponding HOG features\n",
        "    hog_features_by_class[i] = X_train_hog[indices]\n",
        "    hog_features_by_class_test[i] = X_test_hog[indices0]\n",
        "\n",
        "# Check the shapes of the arrays for each class\n",
        "for i in range(num_classes):\n",
        "    print(f\"Class {i} has {hog_features_by_class_test[i].shape[0]} samples with feature dimension {hog_features_by_class[i].shape[1]}\")\n",
        "\n",
        "# Example: Access HOG features for class 0\n",
        "hog_features_class_0 = hog_features_by_class[0]\n",
        "print(\"Shape of HOG features for class 0:\", hog_features_class_0.shape)\n"
      ],
      "metadata": {
        "colab": {
          "base_uri": "https://localhost:8080/"
        },
        "id": "BoUwcAnT-22L",
        "outputId": "51ba7094-75ba-4257-eccf-fec57952c4fe"
      },
      "execution_count": null,
      "outputs": [
        {
          "output_type": "stream",
          "name": "stdout",
          "text": [
            "Class 0 has 1000 samples with feature dimension 324\n",
            "Class 1 has 1000 samples with feature dimension 324\n",
            "Class 2 has 1000 samples with feature dimension 324\n",
            "Class 3 has 1000 samples with feature dimension 324\n",
            "Class 4 has 1000 samples with feature dimension 324\n",
            "Class 5 has 1000 samples with feature dimension 324\n",
            "Class 6 has 1000 samples with feature dimension 324\n",
            "Class 7 has 1000 samples with feature dimension 324\n",
            "Class 8 has 1000 samples with feature dimension 324\n",
            "Class 9 has 1000 samples with feature dimension 324\n",
            "Shape of HOG features for class 0: (5000, 324)\n"
          ]
        }
      ]
    },
    {
      "cell_type": "markdown",
      "source": [
        "### Collaborative Representation Classifier"
      ],
      "metadata": {
        "id": "JUI1eMMZk-ve"
      }
    },
    {
      "cell_type": "code",
      "source": [
        "# Training phase\n",
        "subjects = list(range(10))  # Subjects 0 to 9\n",
        "sample_per_subject = 5000\n",
        "lambda_reg = 0.1\n",
        "\n",
        "dict_list = np.empty((0, 324))\n",
        "subadd = np.zeros(10, dtype=int)\n",
        "for j in subjects:\n",
        "    features=hog_features_by_class[j][:sample_per_subject]\n",
        "    dict_list = np.vstack((dict_list, features))  # Use vstack to stack vertically\n",
        "    subadd[j] = dict_list.shape[0]\n",
        "\n",
        "dict_matrix = np.vstack(dict_list)\n",
        "n_sample, num_features = dict_matrix.shape\n",
        "P = np.linalg.inv(dict_matrix.T @ dict_matrix + lambda_reg * np.eye(num_features)) @ dict_matrix.T"
      ],
      "metadata": {
        "id": "SlE3JVHhAfGl"
      },
      "execution_count": null,
      "outputs": []
    },
    {
      "cell_type": "code",
      "source": [
        "# Testing phase\n",
        "test_samples = 300\n",
        "taux = []\n",
        "P0=P.T\n",
        "for n in range(test_samples):\n",
        "    similarity_matrix = np.zeros((num_classes, num_classes))\n",
        "    for j in subjects:\n",
        "        D1=hog_features_by_class_test[j][n]\n",
        "        x0 = P0 @ D1;\n",
        "        res = np.zeros((1, num_classes))\n",
        "        b = 0\n",
        "        for c in range(num_classes):\n",
        "            l_x0 = np.zeros((n_sample))\n",
        "            l_x0[b:subadd[c]] = x0[b:subadd[c]]\n",
        "            res[0, c] = np.sum(( l_x0 @ dict_matrix - D1) ** 2)\n",
        "            b = subadd[c]\n",
        "\n",
        "        similarity_matrix[j, :] = res\n",
        "\n",
        "\n",
        "    fiin = np.argmin(similarity_matrix, axis=0)\n",
        "    ttt = np.zeros(similarity_matrix.shape[1])\n",
        "    for qqq in range(similarity_matrix.shape[1]):\n",
        "        if fiin[qqq] == qqq:\n",
        "            ttt[qqq] = 1\n",
        "        else:\n",
        "            ttt[qqq] = 0\n",
        "\n",
        "    taux.append(np.sum(ttt) / num_classes * 100)\n",
        "\n",
        "mean_accuracy = np.mean(taux)\n",
        "print(\"Mean Accuracy:\", mean_accuracy)"
      ],
      "metadata": {
        "colab": {
          "base_uri": "https://localhost:8080/"
        },
        "id": "u6Skm8HycQjj",
        "outputId": "6b5c0ed2-0cfd-430e-cdf5-184492513db6"
      },
      "execution_count": null,
      "outputs": [
        {
          "output_type": "stream",
          "name": "stdout",
          "text": [
            "Mean Accuracy: 52.792792792792795\n"
          ]
        }
      ]
    },
    {
      "cell_type": "markdown",
      "source": [
        "# K-NN classifier"
      ],
      "metadata": {
        "id": "NVqC5hRnlD8r"
      }
    },
    {
      "cell_type": "code",
      "source": [
        "# Train K-NN classifier\n",
        "print(\"Training 1-NN classifier...\")\n",
        "knn = KNeighborsClassifier(n_neighbors=100)\n",
        "knn.fit(X_train_hog, y_train.ravel())\n",
        "\n",
        "# Predict on the test set\n",
        "print(\"Predicting on test data...\")\n",
        "y_pred = knn.predict(X_test_hog)\n",
        "\n",
        "# Evaluate accuracy\n",
        "accuracy = accuracy_score(y_test, y_pred)\n",
        "print(f\"Accuracy: {accuracy*100:.4f}\")"
      ],
      "metadata": {
        "colab": {
          "base_uri": "https://localhost:8080/"
        },
        "id": "-3QvoIuo3k1Y",
        "outputId": "06c12a4b-4ca6-48ab-9173-26c6cefd6429"
      },
      "execution_count": null,
      "outputs": [
        {
          "output_type": "stream",
          "name": "stdout",
          "text": [
            "Training 1-NN classifier...\n",
            "Predicting on test data...\n",
            "Accuracy: 45.9600\n"
          ]
        }
      ]
    }
  ]
}