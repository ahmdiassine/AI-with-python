{
  "nbformat": 4,
  "nbformat_minor": 0,
  "metadata": {
    "colab": {
      "provenance": [],
      "gpuType": "T4"
    },
    "kernelspec": {
      "name": "python3",
      "display_name": "Python 3"
    },
    "language_info": {
      "name": "python"
    },
    "accelerator": "GPU"
  },
  "cells": [
    {
      "cell_type": "markdown",
      "source": [
        "# LeNet5 applied to the MNIST dataset\n",
        "\n",
        "\n"
      ],
      "metadata": {
        "id": "Qlis6Tdotisk"
      }
    },
    {
      "cell_type": "code",
      "source": [
        "import torch\n",
        "import torch.nn as nn\n",
        "import torch.optim as optim\n",
        "import torchvision\n",
        "import torchvision.transforms as transforms\n",
        "from torch.utils.data import DataLoader\n",
        "\n",
        "# Define the LeNet-5 model\n",
        "class LeNet5(nn.Module):\n",
        "    def __init__(self):\n",
        "        super(LeNet5, self).__init__()\n",
        "        self.conv1 = nn.Conv2d(1, 6, kernel_size=5, stride=1, padding=2)\n",
        "        self.conv2 = nn.Conv2d(6, 16, kernel_size=5, stride=1, padding=0)\n",
        "        self.conv3 = nn.Conv2d(16, 120, kernel_size=5, stride=1, padding=0)\n",
        "        self.fc1 = nn.Linear(120, 84)\n",
        "        self.fc2 = nn.Linear(84, 10)\n",
        "        self.pool = nn.AvgPool2d(kernel_size=2, stride=2)\n",
        "        self.relu = nn.ReLU()\n",
        "\n",
        "    def forward(self, x):\n",
        "        x = self.relu(self.conv1(x))\n",
        "        x = self.pool(x)\n",
        "        x = self.relu(self.conv2(x))\n",
        "        x = self.pool(x)\n",
        "        x = self.relu(self.conv3(x))\n",
        "        x = x.view(-1, 120)\n",
        "        x = self.relu(self.fc1(x))\n",
        "        x = self.fc2(x)\n",
        "        return x\n",
        "\n",
        "# Hyperparameters\n",
        "batch_size = 64\n",
        "learning_rate = 0.001\n",
        "num_epochs = 100\n",
        "max_iterations = 10000\n",
        "\n",
        "# Prepare dataset and dataloaders\n",
        "transform = transforms.Compose([\n",
        "    transforms.ToTensor(),\n",
        "    transforms.Normalize((0.5,), (0.5,))\n",
        "])\n",
        "\n",
        "train_dataset = torchvision.datasets.MNIST(root='./data', train=True, download=True, transform=transform)\n",
        "test_dataset = torchvision.datasets.MNIST(root='./data', train=False, download=True, transform=transform)\n",
        "\n",
        "train_loader1 = DataLoader(train_dataset, batch_size=batch_size, shuffle=True)\n",
        "test_loader1 = DataLoader(test_dataset, batch_size=batch_size, shuffle=False)\n",
        "\n",
        "# Initialize model, loss function, and optimizer\n",
        "device = torch.device('cuda' if torch.cuda.is_available() else 'cpu')\n",
        "model1 = LeNet5().to(device)\n",
        "criterion = nn.CrossEntropyLoss()\n",
        "optimizer = optim.Adam(model1.parameters(), lr=learning_rate)\n",
        "\n",
        "# Training  loop\n",
        "def model_train():\n",
        "    iteration = 0\n",
        "    for epoch in range(num_epochs):\n",
        "        model1.train()\n",
        "        running_loss = 0.0\n",
        "\n",
        "        for i, (inputs, labels) in enumerate(train_loader1):\n",
        "            if iteration >= max_iterations:\n",
        "                print(f\"Stopping early after {max_iterations} iterations\")\n",
        "                model_test()\n",
        "                return\n",
        "\n",
        "            inputs, labels = inputs.to(device), labels.to(device)\n",
        "\n",
        "            optimizer.zero_grad()\n",
        "\n",
        "            outputs = model1(inputs)\n",
        "            loss = criterion(outputs, labels)\n",
        "            loss.backward()\n",
        "            optimizer.step()\n",
        "\n",
        "            running_loss += loss.item()\n",
        "            iteration += 1\n",
        "\n",
        "            if i % (len(train_loader1)/4) == 0:  # Print 4 times every Epoch\n",
        "                print(f\"Epoch [{epoch+1}/{num_epochs}], Step [{i+1}/{len(train_loader1)}], Loss: {running_loss / 100:.4f}\")\n",
        "                running_loss = 0.0\n",
        "\n",
        "        print(f\"Epoch [{epoch+1}/{num_epochs}]\")\n",
        "        model_test()\n",
        "\n",
        "\n",
        "# Testing loop\n",
        "def model_test():\n",
        "    model1.eval()\n",
        "    correct = 0\n",
        "    total = 0\n",
        "\n",
        "    with torch.no_grad():\n",
        "        for inputs, labels in test_loader1:\n",
        "            inputs, labels = inputs.to(device), labels.to(device)\n",
        "            outputs = model1(inputs)\n",
        "            _, predicted = torch.max(outputs.data, 1)\n",
        "            total += labels.size(0)\n",
        "            correct += (predicted == labels).sum().item()\n",
        "\n",
        "    print(f\"Test Accuracy: {100 * correct / total:.2f}%\")\n",
        "\n"
      ],
      "metadata": {
        "id": "E024eYxNs84c"
      },
      "execution_count": null,
      "outputs": []
    },
    {
      "cell_type": "code",
      "source": [
        "# Run training and testing\n",
        "model_train()"
      ],
      "metadata": {
        "colab": {
          "base_uri": "https://localhost:8080/"
        },
        "id": "Mvw3WI4itP2r",
        "outputId": "e2a265af-548a-4351-a75e-fbf68671916c"
      },
      "execution_count": null,
      "outputs": [
        {
          "output_type": "stream",
          "name": "stdout",
          "text": [
            "Epoch [1/100], Step [1/938], Loss: 0.0231\n",
            "Epoch [1/100], Step [470/938], Loss: 2.4652\n",
            "Epoch [1/100]\n",
            "Test Accuracy: 96.26%\n",
            "Epoch [2/100], Step [1/938], Loss: 0.0012\n",
            "Epoch [2/100], Step [470/938], Loss: 0.4447\n",
            "Epoch [2/100]\n",
            "Test Accuracy: 97.72%\n",
            "Epoch [3/100], Step [1/938], Loss: 0.0001\n",
            "Epoch [3/100], Step [470/938], Loss: 0.3114\n",
            "Epoch [3/100]\n",
            "Test Accuracy: 97.99%\n",
            "Epoch [4/100], Step [1/938], Loss: 0.0004\n",
            "Epoch [4/100], Step [470/938], Loss: 0.2127\n",
            "Epoch [4/100]\n",
            "Test Accuracy: 98.56%\n",
            "Epoch [5/100], Step [1/938], Loss: 0.0001\n",
            "Epoch [5/100], Step [470/938], Loss: 0.1760\n",
            "Epoch [5/100]\n",
            "Test Accuracy: 98.66%\n",
            "Epoch [6/100], Step [1/938], Loss: 0.0001\n",
            "Epoch [6/100], Step [470/938], Loss: 0.1733\n",
            "Epoch [6/100]\n",
            "Test Accuracy: 98.73%\n",
            "Epoch [7/100], Step [1/938], Loss: 0.0001\n",
            "Epoch [7/100], Step [470/938], Loss: 0.1277\n",
            "Epoch [7/100]\n",
            "Test Accuracy: 99.02%\n",
            "Epoch [8/100], Step [1/938], Loss: 0.0006\n",
            "Epoch [8/100], Step [470/938], Loss: 0.1137\n",
            "Epoch [8/100]\n",
            "Test Accuracy: 99.01%\n",
            "Epoch [9/100], Step [1/938], Loss: 0.0000\n",
            "Epoch [9/100], Step [470/938], Loss: 0.0980\n",
            "Epoch [9/100]\n",
            "Test Accuracy: 98.84%\n",
            "Epoch [10/100], Step [1/938], Loss: 0.0001\n",
            "Epoch [10/100], Step [470/938], Loss: 0.0900\n",
            "Epoch [10/100]\n",
            "Test Accuracy: 99.00%\n",
            "Epoch [11/100], Step [1/938], Loss: 0.0001\n",
            "Epoch [11/100], Step [470/938], Loss: 0.0794\n",
            "Stopping early after 10000 iterations\n",
            "Test Accuracy: 99.02%\n"
          ]
        }
      ]
    },
    {
      "cell_type": "markdown",
      "source": [
        "# ResNet-10 applied to the CIFAR-10 dataset"
      ],
      "metadata": {
        "id": "EFUYBrBJtmmI"
      }
    },
    {
      "cell_type": "code",
      "source": [
        "import torch\n",
        "import torch.nn as nn\n",
        "import torch.optim as optim\n",
        "import torchvision\n",
        "import torchvision.transforms as transforms\n",
        "\n",
        "# Define the basic block used in ResNet-10\n",
        "class BasicBlock(nn.Module):\n",
        "    def __init__(self, in_channels, out_channels, stride=1):\n",
        "        super(BasicBlock, self).__init__()\n",
        "        self.conv1 = nn.Conv2d(in_channels, out_channels, kernel_size=3, stride=stride, padding=1, bias=False)\n",
        "        self.bn1 = nn.BatchNorm2d(out_channels)\n",
        "        self.relu = nn.ReLU(inplace=True)\n",
        "        self.conv2 = nn.Conv2d(out_channels, out_channels, kernel_size=3, stride=1, padding=1, bias=False)\n",
        "        self.bn2 = nn.BatchNorm2d(out_channels)\n",
        "\n",
        "        self.shortcut = nn.Sequential()\n",
        "        if stride != 1 or in_channels != out_channels:\n",
        "            self.shortcut = nn.Sequential(\n",
        "                nn.Conv2d(in_channels, out_channels, kernel_size=1, stride=stride, bias=False),\n",
        "                nn.BatchNorm2d(out_channels)\n",
        "            )\n",
        "\n",
        "    def forward(self, x):\n",
        "        out = self.relu(self.bn1(self.conv1(x)))\n",
        "        out = self.bn2(self.conv2(out))\n",
        "        out += self.shortcut(x)\n",
        "        out = self.relu(out)\n",
        "        return out\n",
        "\n",
        "# Define the ResNet-10 model\n",
        "class ResNet10(nn.Module):\n",
        "    def __init__(self):\n",
        "        super(ResNet10, self).__init__()\n",
        "        self.in_channels = 16\n",
        "        self.conv1 = nn.Conv2d(3, 16, kernel_size=3, stride=1, padding=1, bias=False)\n",
        "        self.bn1 = nn.BatchNorm2d(16)\n",
        "        self.relu = nn.ReLU(inplace=True)\n",
        "\n",
        "        # Stack of blocks\n",
        "        self.layer1 = self._make_layer(16, 1, stride=1)\n",
        "        self.layer2 = self._make_layer(32, 1, stride=2)\n",
        "        self.layer3 = self._make_layer(64, 1, stride=2)\n",
        "\n",
        "        self.avgpool = nn.AdaptiveAvgPool2d((1, 1))\n",
        "        self.fc = nn.Linear(64, 10)\n",
        "\n",
        "    def _make_layer(self, out_channels, blocks, stride):\n",
        "        layers = []\n",
        "        layers.append(BasicBlock(self.in_channels, out_channels, stride))\n",
        "        self.in_channels = out_channels\n",
        "        for _ in range(1, blocks):\n",
        "            layers.append(BasicBlock(self.in_channels, out_channels))\n",
        "        return nn.Sequential(*layers)\n",
        "\n",
        "    def forward(self, x):\n",
        "        x = self.relu(self.bn1(self.conv1(x)))\n",
        "        x = self.layer1(x)\n",
        "        x = self.layer2(x)\n",
        "        x = self.layer3(x)\n",
        "        x = self.avgpool(x)\n",
        "        x = torch.flatten(x, 1)\n",
        "        x = self.fc(x)\n",
        "        return x\n",
        "\n",
        "# Load CIFAR-10 data\n",
        "transform = transforms.Compose([\n",
        "    transforms.ToTensor(),\n",
        "    transforms.Normalize((0.4914, 0.4822, 0.4465), (0.2023, 0.1994, 0.2010))\n",
        "])\n",
        "\n",
        "trainset = torchvision.datasets.CIFAR10(root='./data', train=True, download=True, transform=transform)\n",
        "trainloader2 = torch.utils.data.DataLoader(trainset, batch_size=256, shuffle=True, num_workers=2)\n",
        "\n",
        "testset = torchvision.datasets.CIFAR10(root='./data', train=False, download=True, transform=transform)\n",
        "testloader2 = torch.utils.data.DataLoader(testset, batch_size=256, shuffle=False, num_workers=2)\n",
        "\n",
        "# Initialize the model, loss function, and optimizer\n",
        "device = torch.device('cuda' if torch.cuda.is_available() else 'cpu')\n",
        "model2 = ResNet10().to(device)\n",
        "criterion = nn.CrossEntropyLoss()\n",
        "optimizer = optim.SGD(model2.parameters(), lr=0.01, momentum=0.9, weight_decay=5e-4)"
      ],
      "metadata": {
        "colab": {
          "base_uri": "https://localhost:8080/"
        },
        "id": "OJZ5Cjt2ubzm",
        "outputId": "4f39b4d0-9efe-458d-8136-5154513b4f19"
      },
      "execution_count": null,
      "outputs": [
        {
          "output_type": "stream",
          "name": "stdout",
          "text": [
            "Files already downloaded and verified\n",
            "Files already downloaded and verified\n"
          ]
        }
      ]
    },
    {
      "cell_type": "code",
      "source": [
        "# Training loop\n",
        "num_epochs = 10\n",
        "for epoch in range(num_epochs):\n",
        "    model2.train()\n",
        "    running_loss = 0.0\n",
        "    for i, data in enumerate(trainloader2, 0):\n",
        "        inputs, labels = data\n",
        "        inputs, labels = inputs.to(device), labels.to(device)\n",
        "\n",
        "        optimizer.zero_grad()\n",
        "\n",
        "        outputs = model2(inputs)\n",
        "        loss = criterion(outputs, labels)\n",
        "        loss.backward()\n",
        "        optimizer.step()\n",
        "\n",
        "        running_loss += loss.item()\n",
        "        if i % 100 == 99:  # Print every 100 mini-batches\n",
        "            print(f'Epoch {epoch+1}, Batch {i+1}, Loss: {running_loss / 100:.3f}')\n",
        "            running_loss = 0.0\n",
        "\n",
        "print('Finished Training')"
      ],
      "metadata": {
        "colab": {
          "base_uri": "https://localhost:8080/"
        },
        "id": "bG23iRuqpyN7",
        "outputId": "e9056b7b-e07d-4790-9ce4-d4fe18c1c1f0"
      },
      "execution_count": null,
      "outputs": [
        {
          "output_type": "stream",
          "name": "stdout",
          "text": [
            "Epoch 1, Batch 100, Loss: 0.495\n",
            "Epoch 2, Batch 100, Loss: 0.478\n",
            "Epoch 3, Batch 100, Loss: 0.465\n",
            "Epoch 4, Batch 100, Loss: 0.448\n",
            "Epoch 5, Batch 100, Loss: 0.424\n",
            "Epoch 6, Batch 100, Loss: 0.421\n",
            "Epoch 7, Batch 100, Loss: 0.409\n",
            "Epoch 8, Batch 100, Loss: 0.391\n",
            "Epoch 9, Batch 100, Loss: 0.378\n",
            "Epoch 10, Batch 100, Loss: 0.366\n",
            "Finished Training\n"
          ]
        }
      ]
    },
    {
      "cell_type": "code",
      "source": [
        "# Evaluate the model\n",
        "model2.eval()\n",
        "correct = 0\n",
        "total = 0\n",
        "with torch.no_grad():\n",
        "    for data in testloader2:\n",
        "        images, labels = data\n",
        "        outputs = model2(images.to(device))\n",
        "        _, predicted = torch.max(outputs.data, 1)\n",
        "        total += labels.size(0)\n",
        "        correct += (predicted.cpu() == labels).sum().item()\n",
        "\n",
        "print(f'Accuracy of the network on the 10000 test images: {100 * correct / total:.2f}%')"
      ],
      "metadata": {
        "colab": {
          "base_uri": "https://localhost:8080/"
        },
        "id": "qjAcuaBBqcXD",
        "outputId": "72804807-1dad-4d85-9b6e-176b2200ee14"
      },
      "execution_count": null,
      "outputs": [
        {
          "output_type": "stream",
          "name": "stdout",
          "text": [
            "Accuracy of the network on the 10000 test images: 73.25%\n"
          ]
        }
      ]
    }
  ]
}