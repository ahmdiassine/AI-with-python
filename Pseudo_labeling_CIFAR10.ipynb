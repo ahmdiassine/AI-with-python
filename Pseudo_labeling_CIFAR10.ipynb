{
  "nbformat": 4,
  "nbformat_minor": 0,
  "metadata": {
    "colab": {
      "provenance": [],
      "gpuType": "T4"
    },
    "kernelspec": {
      "name": "python3",
      "display_name": "Python 3"
    },
    "language_info": {
      "name": "python"
    },
    "accelerator": "GPU"
  },
  "cells": [
    {
      "cell_type": "markdown",
      "source": [
        "# Semi supervised learning on CIFAR10 using Pseudo-labeling\n",
        "\n",
        "\n",
        "\n"
      ],
      "metadata": {
        "id": "_qQT-wMbuSn1"
      }
    },
    {
      "cell_type": "code",
      "source": [
        "import torch\n",
        "import torch.nn as nn\n",
        "import torch.optim as optim\n",
        "import torchvision\n",
        "import torchvision.transforms as transforms\n",
        "from torch.utils.data import DataLoader, Subset, ConcatDataset\n",
        "import numpy as np\n",
        "from tqdm import tqdm\n",
        "\n",
        "\n",
        "# Data transformation and loading\n",
        "transform = transforms.Compose([\n",
        "    transforms.ToTensor(),\n",
        "    transforms.Normalize((0.5, 0.5, 0.5), (0.5, 0.5, 0.5))\n",
        "])\n",
        "\n",
        "# Load CIFAR-10 dataset\n",
        "full_trainset = torchvision.datasets.CIFAR10(root='./data', train=True, download=True, transform=transform)\n",
        "testset = torchvision.datasets.CIFAR10(root='./data', train=False, download=True, transform=transform)\n",
        "\n",
        "# Split the full dataset into labeled and unlabeled\n",
        "num_labeled = 4000  # Number of labeled examples\n",
        "indices = np.arange(len(full_trainset))\n",
        "np.random.shuffle(indices)\n",
        "labeled_indices = indices[:num_labeled]\n",
        "unlabeled_indices = indices[num_labeled:]\n",
        "\n",
        "labeled_subset = Subset(full_trainset, labeled_indices)\n",
        "unlabeled_subset = Subset(full_trainset, unlabeled_indices)\n",
        "\n",
        "labeled_loader = DataLoader(labeled_subset, batch_size=64, shuffle=True)\n",
        "unlabeled_loader = DataLoader(unlabeled_subset, batch_size=64, shuffle=False)\n",
        "test_loader = DataLoader(testset, batch_size=64, shuffle=False)\n",
        "\n"
      ],
      "metadata": {
        "colab": {
          "base_uri": "https://localhost:8080/"
        },
        "id": "ceeX7vWSxxlu",
        "outputId": "a5698c3f-593e-4e74-fe5d-493fb2ea9d02"
      },
      "execution_count": 1,
      "outputs": [
        {
          "output_type": "stream",
          "name": "stdout",
          "text": [
            "Files already downloaded and verified\n",
            "Files already downloaded and verified\n"
          ]
        }
      ]
    },
    {
      "cell_type": "markdown",
      "source": [
        "# ResNet-10 model"
      ],
      "metadata": {
        "id": "AyAjc60_uZo-"
      }
    },
    {
      "cell_type": "code",
      "source": [
        "\n",
        "# Define the basic block used in ResNet-10\n",
        "class BasicBlock(nn.Module):\n",
        "    def __init__(self, in_channels, out_channels, stride=1):\n",
        "        super(BasicBlock, self).__init__()\n",
        "        self.conv1 = nn.Conv2d(in_channels, out_channels, kernel_size=3, stride=stride, padding=1, bias=False)\n",
        "        self.bn1 = nn.BatchNorm2d(out_channels)\n",
        "        self.relu = nn.ReLU(inplace=True)\n",
        "        self.conv2 = nn.Conv2d(out_channels, out_channels, kernel_size=3, stride=1, padding=1, bias=False)\n",
        "        self.bn2 = nn.BatchNorm2d(out_channels)\n",
        "\n",
        "        self.shortcut = nn.Sequential()\n",
        "        if stride != 1 or in_channels != out_channels:\n",
        "            self.shortcut = nn.Sequential(\n",
        "                nn.Conv2d(in_channels, out_channels, kernel_size=1, stride=stride, bias=False),\n",
        "                nn.BatchNorm2d(out_channels)\n",
        "            )\n",
        "\n",
        "    def forward(self, x):\n",
        "        out = self.relu(self.bn1(self.conv1(x)))\n",
        "        out = self.bn2(self.conv2(out))\n",
        "        out += self.shortcut(x)\n",
        "        out = self.relu(out)\n",
        "        return out\n",
        "\n",
        "# Define the ResNet-10 model\n",
        "class ResNet10(nn.Module):\n",
        "    def __init__(self):\n",
        "        super(ResNet10, self).__init__()\n",
        "        self.in_channels = 16\n",
        "        self.conv1 = nn.Conv2d(3, 16, kernel_size=3, stride=1, padding=1, bias=False)\n",
        "        self.bn1 = nn.BatchNorm2d(16)\n",
        "        self.relu = nn.ReLU(inplace=True)\n",
        "\n",
        "        # Stack of blocks\n",
        "        self.layer1 = self._make_layer(16, 1, stride=1)\n",
        "        self.layer2 = self._make_layer(32, 1, stride=2)\n",
        "        self.layer3 = self._make_layer(64, 1, stride=2)\n",
        "\n",
        "        self.avgpool = nn.AdaptiveAvgPool2d((1, 1))\n",
        "        self.fc = nn.Linear(64, 10)\n",
        "\n",
        "    def _make_layer(self, out_channels, blocks, stride):\n",
        "        layers = []\n",
        "        layers.append(BasicBlock(self.in_channels, out_channels, stride))\n",
        "        self.in_channels = out_channels\n",
        "        for _ in range(1, blocks):\n",
        "            layers.append(BasicBlock(self.in_channels, out_channels))\n",
        "        return nn.Sequential(*layers)\n",
        "\n",
        "    def forward(self, x):\n",
        "        x = self.relu(self.bn1(self.conv1(x)))\n",
        "        x = self.layer1(x)\n",
        "        x = self.layer2(x)\n",
        "        x = self.layer3(x)\n",
        "        x = self.avgpool(x)\n",
        "        x = torch.flatten(x, 1)\n",
        "        #x = self.fc(x)\n",
        "        return x\n",
        "\n",
        "# Initialize model, loss function, and optimizer\n",
        "device = torch.device('cuda' if torch.cuda.is_available() else 'cpu')\n",
        "model = ResNet10().to(device)\n",
        "criterion = nn.CrossEntropyLoss()\n",
        "optimizer = optim.Adam(model.parameters(), lr=0.001)\n",
        "\n",
        "# Training function\n",
        "def train_model(model, dataloader, optimizer, criterion):\n",
        "    model.train()\n",
        "    running_loss = 0.0\n",
        "    for images, labels in tqdm(dataloader, desc=\"Training\"):\n",
        "        images, labels = images.to(device), labels.to(device)\n",
        "        optimizer.zero_grad()\n",
        "        outputs = model(images)\n",
        "        loss = criterion(outputs, labels)\n",
        "        loss.backward()\n",
        "        optimizer.step()\n",
        "        running_loss += loss.item()\n",
        "    print(f'Loss: {running_loss / len(dataloader)}')\n",
        "\n",
        "\n",
        "# Evaluate the model\n",
        "def evaluate_model(model, dataloader):\n",
        "    model.eval()\n",
        "    correct = 0\n",
        "    total = 0\n",
        "    with torch.no_grad():\n",
        "        for images, labels in dataloader:\n",
        "            images, labels = images.to(device), labels.to(device)\n",
        "            outputs = model(images)\n",
        "            _, predicted = torch.max(outputs, 1)\n",
        "            total += labels.size(0)\n",
        "            correct += (predicted == labels).sum().item()\n",
        "    return correct / total\n",
        "\n"
      ],
      "metadata": {
        "id": "6vl7fEFvzRyM"
      },
      "execution_count": 2,
      "outputs": []
    },
    {
      "cell_type": "markdown",
      "source": [
        "# Training with only labeled set"
      ],
      "metadata": {
        "id": "M8yoxpkuuj6W"
      }
    },
    {
      "cell_type": "code",
      "source": [
        "# for num_epochs = 40       Loss: 0.3438119628126659    Test Accuracy: 56.22%\n",
        "num_epochs = 40\n",
        "for epoch in range(num_epochs):\n",
        "    print(f'Epoch {epoch+1}/{num_epochs}')\n",
        "    train_model(model, labeled_loader, optimizer, criterion)\n",
        "\n",
        "\n",
        "    accuracy = evaluate_model(model, test_loader)\n",
        "    print(f'Test Accuracy: {accuracy * 100:.2f}%')\n",
        "\n"
      ],
      "metadata": {
        "colab": {
          "base_uri": "https://localhost:8080/"
        },
        "id": "LnvOyVT0yk8J",
        "outputId": "105a7fb3-3ff2-4776-9f9c-34e4a4e65f12"
      },
      "execution_count": 3,
      "outputs": [
        {
          "output_type": "stream",
          "name": "stdout",
          "text": [
            "Epoch 1/40\n"
          ]
        },
        {
          "output_type": "stream",
          "name": "stderr",
          "text": [
            "Training: 100%|██████████| 63/63 [00:03<00:00, 19.54it/s]\n"
          ]
        },
        {
          "output_type": "stream",
          "name": "stdout",
          "text": [
            "Loss: 3.1539104325430736\n",
            "Test Accuracy: 29.38%\n",
            "Epoch 2/40\n"
          ]
        },
        {
          "output_type": "stream",
          "name": "stderr",
          "text": [
            "Training: 100%|██████████| 63/63 [00:01<00:00, 36.09it/s]\n"
          ]
        },
        {
          "output_type": "stream",
          "name": "stdout",
          "text": [
            "Loss: 2.6103801878671797\n",
            "Test Accuracy: 38.88%\n",
            "Epoch 3/40\n"
          ]
        },
        {
          "output_type": "stream",
          "name": "stderr",
          "text": [
            "Training: 100%|██████████| 63/63 [00:02<00:00, 28.95it/s]\n"
          ]
        },
        {
          "output_type": "stream",
          "name": "stdout",
          "text": [
            "Loss: 2.42514739717756\n",
            "Test Accuracy: 37.15%\n",
            "Epoch 4/40\n"
          ]
        },
        {
          "output_type": "stream",
          "name": "stderr",
          "text": [
            "Training: 100%|██████████| 63/63 [00:01<00:00, 35.67it/s]\n"
          ]
        },
        {
          "output_type": "stream",
          "name": "stdout",
          "text": [
            "Loss: 2.2550978774116155\n",
            "Test Accuracy: 38.60%\n",
            "Epoch 5/40\n"
          ]
        },
        {
          "output_type": "stream",
          "name": "stderr",
          "text": [
            "Training: 100%|██████████| 63/63 [00:02<00:00, 31.01it/s]\n"
          ]
        },
        {
          "output_type": "stream",
          "name": "stdout",
          "text": [
            "Loss: 2.1258826085499356\n",
            "Test Accuracy: 43.87%\n",
            "Epoch 6/40\n"
          ]
        },
        {
          "output_type": "stream",
          "name": "stderr",
          "text": [
            "Training: 100%|██████████| 63/63 [00:01<00:00, 36.09it/s]\n"
          ]
        },
        {
          "output_type": "stream",
          "name": "stdout",
          "text": [
            "Loss: 2.0044402035455855\n",
            "Test Accuracy: 45.15%\n",
            "Epoch 7/40\n"
          ]
        },
        {
          "output_type": "stream",
          "name": "stderr",
          "text": [
            "Training: 100%|██████████| 63/63 [00:01<00:00, 38.68it/s]\n"
          ]
        },
        {
          "output_type": "stream",
          "name": "stdout",
          "text": [
            "Loss: 1.9247422767063929\n",
            "Test Accuracy: 40.75%\n",
            "Epoch 8/40\n"
          ]
        },
        {
          "output_type": "stream",
          "name": "stderr",
          "text": [
            "Training: 100%|██████████| 63/63 [00:01<00:00, 33.61it/s]\n"
          ]
        },
        {
          "output_type": "stream",
          "name": "stdout",
          "text": [
            "Loss: 1.824920832164704\n",
            "Test Accuracy: 46.52%\n",
            "Epoch 9/40\n"
          ]
        },
        {
          "output_type": "stream",
          "name": "stderr",
          "text": [
            "Training: 100%|██████████| 63/63 [00:02<00:00, 28.99it/s]\n"
          ]
        },
        {
          "output_type": "stream",
          "name": "stdout",
          "text": [
            "Loss: 1.7340181744287884\n",
            "Test Accuracy: 48.82%\n",
            "Epoch 10/40\n"
          ]
        },
        {
          "output_type": "stream",
          "name": "stderr",
          "text": [
            "Training: 100%|██████████| 63/63 [00:02<00:00, 26.86it/s]\n"
          ]
        },
        {
          "output_type": "stream",
          "name": "stdout",
          "text": [
            "Loss: 1.634072810884506\n",
            "Test Accuracy: 46.88%\n",
            "Epoch 11/40\n"
          ]
        },
        {
          "output_type": "stream",
          "name": "stderr",
          "text": [
            "Training: 100%|██████████| 63/63 [00:01<00:00, 36.38it/s]\n"
          ]
        },
        {
          "output_type": "stream",
          "name": "stdout",
          "text": [
            "Loss: 1.5477782752778795\n",
            "Test Accuracy: 47.24%\n",
            "Epoch 12/40\n"
          ]
        },
        {
          "output_type": "stream",
          "name": "stderr",
          "text": [
            "Training: 100%|██████████| 63/63 [00:01<00:00, 37.84it/s]\n"
          ]
        },
        {
          "output_type": "stream",
          "name": "stdout",
          "text": [
            "Loss: 1.499731387410845\n",
            "Test Accuracy: 51.31%\n",
            "Epoch 13/40\n"
          ]
        },
        {
          "output_type": "stream",
          "name": "stderr",
          "text": [
            "Training: 100%|██████████| 63/63 [00:02<00:00, 31.14it/s]\n"
          ]
        },
        {
          "output_type": "stream",
          "name": "stdout",
          "text": [
            "Loss: 1.447383990363469\n",
            "Test Accuracy: 51.37%\n",
            "Epoch 14/40\n"
          ]
        },
        {
          "output_type": "stream",
          "name": "stderr",
          "text": [
            "Training: 100%|██████████| 63/63 [00:01<00:00, 37.24it/s]\n"
          ]
        },
        {
          "output_type": "stream",
          "name": "stdout",
          "text": [
            "Loss: 1.3820906905900865\n",
            "Test Accuracy: 53.54%\n",
            "Epoch 15/40\n"
          ]
        },
        {
          "output_type": "stream",
          "name": "stderr",
          "text": [
            "Training: 100%|██████████| 63/63 [00:02<00:00, 30.70it/s]\n"
          ]
        },
        {
          "output_type": "stream",
          "name": "stdout",
          "text": [
            "Loss: 1.325455799935356\n",
            "Test Accuracy: 51.95%\n",
            "Epoch 16/40\n"
          ]
        },
        {
          "output_type": "stream",
          "name": "stderr",
          "text": [
            "Training: 100%|██████████| 63/63 [00:01<00:00, 37.13it/s]\n"
          ]
        },
        {
          "output_type": "stream",
          "name": "stdout",
          "text": [
            "Loss: 1.2584771201724099\n",
            "Test Accuracy: 49.41%\n",
            "Epoch 17/40\n"
          ]
        },
        {
          "output_type": "stream",
          "name": "stderr",
          "text": [
            "Training: 100%|██████████| 63/63 [00:01<00:00, 36.53it/s]\n"
          ]
        },
        {
          "output_type": "stream",
          "name": "stdout",
          "text": [
            "Loss: 1.1984065487271263\n",
            "Test Accuracy: 49.28%\n",
            "Epoch 18/40\n"
          ]
        },
        {
          "output_type": "stream",
          "name": "stderr",
          "text": [
            "Training: 100%|██████████| 63/63 [00:02<00:00, 31.22it/s]\n"
          ]
        },
        {
          "output_type": "stream",
          "name": "stdout",
          "text": [
            "Loss: 1.152385951980712\n",
            "Test Accuracy: 52.35%\n",
            "Epoch 19/40\n"
          ]
        },
        {
          "output_type": "stream",
          "name": "stderr",
          "text": [
            "Training: 100%|██████████| 63/63 [00:02<00:00, 22.40it/s]\n"
          ]
        },
        {
          "output_type": "stream",
          "name": "stdout",
          "text": [
            "Loss: 1.113159976308308\n",
            "Test Accuracy: 54.03%\n",
            "Epoch 20/40\n"
          ]
        },
        {
          "output_type": "stream",
          "name": "stderr",
          "text": [
            "Training: 100%|██████████| 63/63 [00:01<00:00, 34.94it/s]\n"
          ]
        },
        {
          "output_type": "stream",
          "name": "stdout",
          "text": [
            "Loss: 1.051138682970925\n",
            "Test Accuracy: 50.80%\n",
            "Epoch 21/40\n"
          ]
        },
        {
          "output_type": "stream",
          "name": "stderr",
          "text": [
            "Training: 100%|██████████| 63/63 [00:01<00:00, 37.10it/s]\n"
          ]
        },
        {
          "output_type": "stream",
          "name": "stdout",
          "text": [
            "Loss: 1.040990912725055\n",
            "Test Accuracy: 51.32%\n",
            "Epoch 22/40\n"
          ]
        },
        {
          "output_type": "stream",
          "name": "stderr",
          "text": [
            "Training: 100%|██████████| 63/63 [00:01<00:00, 36.04it/s]\n"
          ]
        },
        {
          "output_type": "stream",
          "name": "stdout",
          "text": [
            "Loss: 0.9474032521247864\n",
            "Test Accuracy: 55.51%\n",
            "Epoch 23/40\n"
          ]
        },
        {
          "output_type": "stream",
          "name": "stderr",
          "text": [
            "Training: 100%|██████████| 63/63 [00:01<00:00, 32.51it/s]\n"
          ]
        },
        {
          "output_type": "stream",
          "name": "stdout",
          "text": [
            "Loss: 0.9158448463394528\n",
            "Test Accuracy: 51.59%\n",
            "Epoch 24/40\n"
          ]
        },
        {
          "output_type": "stream",
          "name": "stderr",
          "text": [
            "Training: 100%|██████████| 63/63 [00:02<00:00, 30.99it/s]\n"
          ]
        },
        {
          "output_type": "stream",
          "name": "stdout",
          "text": [
            "Loss: 0.8846690200624012\n",
            "Test Accuracy: 51.78%\n",
            "Epoch 25/40\n"
          ]
        },
        {
          "output_type": "stream",
          "name": "stderr",
          "text": [
            "Training: 100%|██████████| 63/63 [00:01<00:00, 36.89it/s]\n"
          ]
        },
        {
          "output_type": "stream",
          "name": "stdout",
          "text": [
            "Loss: 0.833511335509164\n",
            "Test Accuracy: 54.17%\n",
            "Epoch 26/40\n"
          ]
        },
        {
          "output_type": "stream",
          "name": "stderr",
          "text": [
            "Training: 100%|██████████| 63/63 [00:02<00:00, 30.83it/s]\n"
          ]
        },
        {
          "output_type": "stream",
          "name": "stdout",
          "text": [
            "Loss: 0.7872847526792496\n",
            "Test Accuracy: 55.20%\n",
            "Epoch 27/40\n"
          ]
        },
        {
          "output_type": "stream",
          "name": "stderr",
          "text": [
            "Training: 100%|██████████| 63/63 [00:01<00:00, 36.30it/s]\n"
          ]
        },
        {
          "output_type": "stream",
          "name": "stdout",
          "text": [
            "Loss: 0.7465844759865413\n",
            "Test Accuracy: 52.35%\n",
            "Epoch 28/40\n"
          ]
        },
        {
          "output_type": "stream",
          "name": "stderr",
          "text": [
            "Training: 100%|██████████| 63/63 [00:01<00:00, 38.50it/s]\n"
          ]
        },
        {
          "output_type": "stream",
          "name": "stdout",
          "text": [
            "Loss: 0.7092344581134735\n",
            "Test Accuracy: 53.84%\n",
            "Epoch 29/40\n"
          ]
        },
        {
          "output_type": "stream",
          "name": "stderr",
          "text": [
            "Training: 100%|██████████| 63/63 [00:01<00:00, 36.33it/s]\n"
          ]
        },
        {
          "output_type": "stream",
          "name": "stdout",
          "text": [
            "Loss: 0.6606257316612062\n",
            "Test Accuracy: 57.32%\n",
            "Epoch 30/40\n"
          ]
        },
        {
          "output_type": "stream",
          "name": "stderr",
          "text": [
            "Training: 100%|██████████| 63/63 [00:01<00:00, 37.43it/s]\n"
          ]
        },
        {
          "output_type": "stream",
          "name": "stdout",
          "text": [
            "Loss: 0.6423545867677719\n",
            "Test Accuracy: 53.99%\n",
            "Epoch 31/40\n"
          ]
        },
        {
          "output_type": "stream",
          "name": "stderr",
          "text": [
            "Training: 100%|██████████| 63/63 [00:02<00:00, 30.01it/s]\n"
          ]
        },
        {
          "output_type": "stream",
          "name": "stdout",
          "text": [
            "Loss: 0.6088984357932258\n",
            "Test Accuracy: 55.08%\n",
            "Epoch 32/40\n"
          ]
        },
        {
          "output_type": "stream",
          "name": "stderr",
          "text": [
            "Training: 100%|██████████| 63/63 [00:01<00:00, 38.54it/s]\n"
          ]
        },
        {
          "output_type": "stream",
          "name": "stdout",
          "text": [
            "Loss: 0.5645332937202756\n",
            "Test Accuracy: 55.85%\n",
            "Epoch 33/40\n"
          ]
        },
        {
          "output_type": "stream",
          "name": "stderr",
          "text": [
            "Training: 100%|██████████| 63/63 [00:01<00:00, 37.83it/s]\n"
          ]
        },
        {
          "output_type": "stream",
          "name": "stdout",
          "text": [
            "Loss: 0.5439662271075778\n",
            "Test Accuracy: 56.35%\n",
            "Epoch 34/40\n"
          ]
        },
        {
          "output_type": "stream",
          "name": "stderr",
          "text": [
            "Training: 100%|██████████| 63/63 [00:02<00:00, 30.57it/s]\n"
          ]
        },
        {
          "output_type": "stream",
          "name": "stdout",
          "text": [
            "Loss: 0.5131189950874874\n",
            "Test Accuracy: 53.17%\n",
            "Epoch 35/40\n"
          ]
        },
        {
          "output_type": "stream",
          "name": "stderr",
          "text": [
            "Training: 100%|██████████| 63/63 [00:01<00:00, 37.56it/s]\n"
          ]
        },
        {
          "output_type": "stream",
          "name": "stdout",
          "text": [
            "Loss: 0.4762217000363365\n",
            "Test Accuracy: 53.95%\n",
            "Epoch 36/40\n"
          ]
        },
        {
          "output_type": "stream",
          "name": "stderr",
          "text": [
            "Training: 100%|██████████| 63/63 [00:01<00:00, 37.07it/s]\n"
          ]
        },
        {
          "output_type": "stream",
          "name": "stdout",
          "text": [
            "Loss: 0.455331131579384\n",
            "Test Accuracy: 52.68%\n",
            "Epoch 37/40\n"
          ]
        },
        {
          "output_type": "stream",
          "name": "stderr",
          "text": [
            "Training: 100%|██████████| 63/63 [00:01<00:00, 37.32it/s]\n"
          ]
        },
        {
          "output_type": "stream",
          "name": "stdout",
          "text": [
            "Loss: 0.4310191141234504\n",
            "Test Accuracy: 55.58%\n",
            "Epoch 38/40\n"
          ]
        },
        {
          "output_type": "stream",
          "name": "stderr",
          "text": [
            "Training: 100%|██████████| 63/63 [00:01<00:00, 37.20it/s]\n"
          ]
        },
        {
          "output_type": "stream",
          "name": "stdout",
          "text": [
            "Loss: 0.39843190946276225\n",
            "Test Accuracy: 56.02%\n",
            "Epoch 39/40\n"
          ]
        },
        {
          "output_type": "stream",
          "name": "stderr",
          "text": [
            "Training: 100%|██████████| 63/63 [00:01<00:00, 33.53it/s]\n"
          ]
        },
        {
          "output_type": "stream",
          "name": "stdout",
          "text": [
            "Loss: 0.3572724594010247\n",
            "Test Accuracy: 56.08%\n",
            "Epoch 40/40\n"
          ]
        },
        {
          "output_type": "stream",
          "name": "stderr",
          "text": [
            "Training: 100%|██████████| 63/63 [00:01<00:00, 38.25it/s]\n"
          ]
        },
        {
          "output_type": "stream",
          "name": "stdout",
          "text": [
            "Loss: 0.3438119628126659\n",
            "Test Accuracy: 56.22%\n"
          ]
        }
      ]
    },
    {
      "cell_type": "code",
      "source": [
        "import copy\n",
        "#model_copy = copy.deepcopy(model)\n",
        "#model = copy.deepcopy(model_copy)\n"
      ],
      "metadata": {
        "id": "GM8_i0735j_r"
      },
      "execution_count": 3,
      "outputs": []
    },
    {
      "cell_type": "markdown",
      "source": [
        "# Pseudo-labeling"
      ],
      "metadata": {
        "id": "jYUWXKc_3vlf"
      }
    },
    {
      "cell_type": "code",
      "source": [
        "import torch\n",
        "from tqdm import tqdm\n",
        "import random\n",
        "from torch.utils.data import ConcatDataset, TensorDataset\n",
        "\n",
        "def generate_pseudo_labels(model, dataloader, device, threshold=0.5):\n",
        "    \"\"\"\n",
        "    - threshold: Minimum confidence level to keep a pseudo-label.\n",
        "\n",
        "    \"\"\"\n",
        "    model.eval()\n",
        "    pseudo_images = []\n",
        "    pseudo_labels = []\n",
        "\n",
        "    with torch.no_grad():\n",
        "        for images, _ in tqdm(dataloader, desc=\"Generating Pseudo-Labels\"):\n",
        "            images = images.to(device)\n",
        "            outputs = model(images)\n",
        "            probabilities = torch.softmax(outputs, dim=1)  # Get probabilities\n",
        "            max_probs, predicted = torch.max(probabilities, 1)  # Get predicted class and its probability\n",
        "\n",
        "            # Filter out predictions based on the threshold\n",
        "            high_confidence_indices = max_probs > threshold\n",
        "            filtered_images = images[high_confidence_indices]\n",
        "            filtered_labels = predicted[high_confidence_indices]\n",
        "\n",
        "            pseudo_images.extend(filtered_images.cpu())\n",
        "            pseudo_labels.extend(filtered_labels.cpu())\n",
        "\n",
        "    # Convert lists to tensors\n",
        "    pseudo_images = torch.stack(pseudo_images)\n",
        "    pseudo_labels = torch.tensor(pseudo_labels, dtype=torch.long)\n",
        "\n",
        "    return pseudo_images, pseudo_labels\n",
        "\n",
        "\n",
        "\n",
        "class CustomDataLoader:\n",
        "    def __init__(self, dataset, batch_size=64, shuffle=True):\n",
        "        self.dataset = dataset\n",
        "        self.batch_size = batch_size\n",
        "        self.shuffle = shuffle\n",
        "        self.num_samples = len(dataset)\n",
        "        self.indices = list(range(self.num_samples))\n",
        "        if self.shuffle:\n",
        "            random.shuffle(self.indices)\n",
        "\n",
        "    def __iter__(self):\n",
        "        for start_idx in range(0, self.num_samples, self.batch_size):\n",
        "            end_idx = min(start_idx + self.batch_size, self.num_samples)\n",
        "            batch_indices = self.indices[start_idx:end_idx]\n",
        "            batch_data =   [self.dataset[idx][0] for idx in batch_indices]\n",
        "            batch_label = [self.dataset[idx][1] for idx in batch_indices]\n",
        "            yield  torch.stack(batch_data) , torch.tensor(batch_label, dtype=torch.long)\n",
        "    def __len__(self):\n",
        "        return (self.num_samples + self.batch_size - 1) // self.batch_size\n",
        "\n",
        ""
      ],
      "metadata": {
        "id": "EStOkMiNwwQc"
      },
      "execution_count": 13,
      "outputs": []
    },
    {
      "cell_type": "markdown",
      "source": [
        "# Training with pseudo-labeling"
      ],
      "metadata": {
        "id": "-t1uA9FOu8d7"
      }
    },
    {
      "cell_type": "code",
      "source": [
        "# Training with pseudo-labeling\n",
        "num_epochs = 10\n",
        "for epoch in range(num_epochs):\n",
        "    print(f'Epoch {epoch+1}/{num_epochs}')\n",
        "    train_model(model, labeled_loader, optimizer, criterion)\n",
        "\n",
        "    # Generate pseudo-labels\n",
        "    #pseudo_images, pseudo_labels = generate_pseudo_labels(model, unlabeled_loader)\n",
        "    device = torch.device('cuda' if torch.cuda.is_available() else 'cpu')\n",
        "    pseudo_images, pseudo_labels = generate_pseudo_labels(model, unlabeled_loader, device, threshold=0.5)\n",
        "\n",
        "\n",
        "    # Create a new dataset with pseudo-labeled data\n",
        "    pseudo_dataset = torch.utils.data.TensorDataset(pseudo_images, pseudo_labels)\n",
        "    combined_dataset = ConcatDataset([labeled_subset, pseudo_dataset])\n",
        "    combined_loader = CustomDataLoader(combined_dataset, batch_size=64, shuffle=True)\n",
        "\n",
        "    # Retrain the model with both labeled and pseudo-labeled data\n",
        "    train_model(model, combined_loader, optimizer, criterion)\n",
        "    accuracy = evaluate_model(model, test_loader)\n",
        "    print(f'Test Accuracy: {accuracy * 100:.2f}%')\n"
      ],
      "metadata": {
        "colab": {
          "base_uri": "https://localhost:8080/"
        },
        "id": "DWxeGoFj3alf",
        "outputId": "a3090394-e82b-4e57-934d-d5a578712929"
      },
      "execution_count": 20,
      "outputs": [
        {
          "output_type": "stream",
          "name": "stdout",
          "text": [
            "Epoch 1/10\n"
          ]
        },
        {
          "output_type": "stream",
          "name": "stderr",
          "text": [
            "Training: 100%|██████████| 63/63 [00:01<00:00, 36.02it/s]\n"
          ]
        },
        {
          "output_type": "stream",
          "name": "stdout",
          "text": [
            "Loss: 0.27919450733396745\n"
          ]
        },
        {
          "output_type": "stream",
          "name": "stderr",
          "text": [
            "Generating Pseudo-Labels: 100%|██████████| 719/719 [00:14<00:00, 48.91it/s]\n",
            "Training: 100%|██████████| 516/516 [00:06<00:00, 76.87it/s]\n"
          ]
        },
        {
          "output_type": "stream",
          "name": "stdout",
          "text": [
            "Loss: 0.3514586595255275\n",
            "Test Accuracy: 57.04%\n",
            "Epoch 2/10\n"
          ]
        },
        {
          "output_type": "stream",
          "name": "stderr",
          "text": [
            "Training: 100%|██████████| 63/63 [00:01<00:00, 34.07it/s]\n"
          ]
        },
        {
          "output_type": "stream",
          "name": "stdout",
          "text": [
            "Loss: 0.2801548188167905\n"
          ]
        },
        {
          "output_type": "stream",
          "name": "stderr",
          "text": [
            "Generating Pseudo-Labels: 100%|██████████| 719/719 [00:14<00:00, 48.30it/s]\n",
            "Training: 100%|██████████| 512/512 [00:06<00:00, 78.05it/s]\n"
          ]
        },
        {
          "output_type": "stream",
          "name": "stdout",
          "text": [
            "Loss: 0.35037594960886054\n",
            "Test Accuracy: 57.68%\n",
            "Epoch 3/10\n"
          ]
        },
        {
          "output_type": "stream",
          "name": "stderr",
          "text": [
            "Training: 100%|██████████| 63/63 [00:02<00:00, 28.44it/s]\n"
          ]
        },
        {
          "output_type": "stream",
          "name": "stdout",
          "text": [
            "Loss: 0.28172236775595044\n"
          ]
        },
        {
          "output_type": "stream",
          "name": "stderr",
          "text": [
            "Generating Pseudo-Labels: 100%|██████████| 719/719 [00:14<00:00, 50.95it/s]\n",
            "Training: 100%|██████████| 513/513 [00:06<00:00, 77.62it/s]\n"
          ]
        },
        {
          "output_type": "stream",
          "name": "stdout",
          "text": [
            "Loss: 0.35396442871693284\n",
            "Test Accuracy: 57.59%\n",
            "Epoch 4/10\n"
          ]
        },
        {
          "output_type": "stream",
          "name": "stderr",
          "text": [
            "Training: 100%|██████████| 63/63 [00:01<00:00, 34.98it/s]\n"
          ]
        },
        {
          "output_type": "stream",
          "name": "stdout",
          "text": [
            "Loss: 0.27621192591530935\n"
          ]
        },
        {
          "output_type": "stream",
          "name": "stderr",
          "text": [
            "Generating Pseudo-Labels: 100%|██████████| 719/719 [00:14<00:00, 50.38it/s]\n",
            "Training: 100%|██████████| 516/516 [00:07<00:00, 73.51it/s]\n"
          ]
        },
        {
          "output_type": "stream",
          "name": "stdout",
          "text": [
            "Loss: 0.3596015437397846\n",
            "Test Accuracy: 58.03%\n",
            "Epoch 5/10\n"
          ]
        },
        {
          "output_type": "stream",
          "name": "stderr",
          "text": [
            "Training: 100%|██████████| 63/63 [00:01<00:00, 35.25it/s]\n"
          ]
        },
        {
          "output_type": "stream",
          "name": "stdout",
          "text": [
            "Loss: 0.2730219536830509\n"
          ]
        },
        {
          "output_type": "stream",
          "name": "stderr",
          "text": [
            "Generating Pseudo-Labels: 100%|██████████| 719/719 [00:13<00:00, 51.54it/s]\n",
            "Training: 100%|██████████| 516/516 [00:07<00:00, 72.60it/s]\n"
          ]
        },
        {
          "output_type": "stream",
          "name": "stdout",
          "text": [
            "Loss: 0.35538858715300414\n",
            "Test Accuracy: 57.98%\n",
            "Epoch 6/10\n"
          ]
        },
        {
          "output_type": "stream",
          "name": "stderr",
          "text": [
            "Training: 100%|██████████| 63/63 [00:01<00:00, 35.83it/s]\n"
          ]
        },
        {
          "output_type": "stream",
          "name": "stdout",
          "text": [
            "Loss: 0.27729674322264536\n"
          ]
        },
        {
          "output_type": "stream",
          "name": "stderr",
          "text": [
            "Generating Pseudo-Labels: 100%|██████████| 719/719 [00:13<00:00, 52.03it/s]\n",
            "Training: 100%|██████████| 515/515 [00:07<00:00, 73.12it/s]\n"
          ]
        },
        {
          "output_type": "stream",
          "name": "stdout",
          "text": [
            "Loss: 0.350096476917128\n",
            "Test Accuracy: 58.03%\n",
            "Epoch 7/10\n"
          ]
        },
        {
          "output_type": "stream",
          "name": "stderr",
          "text": [
            "Training: 100%|██████████| 63/63 [00:01<00:00, 35.69it/s]\n"
          ]
        },
        {
          "output_type": "stream",
          "name": "stdout",
          "text": [
            "Loss: 0.27383434252133443\n"
          ]
        },
        {
          "output_type": "stream",
          "name": "stderr",
          "text": [
            "Generating Pseudo-Labels: 100%|██████████| 719/719 [00:14<00:00, 51.32it/s]\n",
            "Training: 100%|██████████| 517/517 [00:07<00:00, 72.01it/s]\n"
          ]
        },
        {
          "output_type": "stream",
          "name": "stdout",
          "text": [
            "Loss: 0.3563942946133346\n",
            "Test Accuracy: 57.73%\n",
            "Epoch 8/10\n"
          ]
        },
        {
          "output_type": "stream",
          "name": "stderr",
          "text": [
            "Training: 100%|██████████| 63/63 [00:01<00:00, 35.23it/s]\n"
          ]
        },
        {
          "output_type": "stream",
          "name": "stdout",
          "text": [
            "Loss: 0.26699066989951664\n"
          ]
        },
        {
          "output_type": "stream",
          "name": "stderr",
          "text": [
            "Generating Pseudo-Labels: 100%|██████████| 719/719 [00:14<00:00, 50.05it/s]\n",
            "Training: 100%|██████████| 517/517 [00:07<00:00, 71.89it/s]\n"
          ]
        },
        {
          "output_type": "stream",
          "name": "stdout",
          "text": [
            "Loss: 0.3624034112092374\n",
            "Test Accuracy: 57.75%\n",
            "Epoch 9/10\n"
          ]
        },
        {
          "output_type": "stream",
          "name": "stderr",
          "text": [
            "Training: 100%|██████████| 63/63 [00:01<00:00, 36.00it/s]\n"
          ]
        },
        {
          "output_type": "stream",
          "name": "stdout",
          "text": [
            "Loss: 0.2787236687209871\n"
          ]
        },
        {
          "output_type": "stream",
          "name": "stderr",
          "text": [
            "Generating Pseudo-Labels: 100%|██████████| 719/719 [00:14<00:00, 50.20it/s]\n",
            "Training: 100%|██████████| 517/517 [00:06<00:00, 75.02it/s]\n"
          ]
        },
        {
          "output_type": "stream",
          "name": "stdout",
          "text": [
            "Loss: 0.36287295976851847\n",
            "Test Accuracy: 57.72%\n",
            "Epoch 10/10\n"
          ]
        },
        {
          "output_type": "stream",
          "name": "stderr",
          "text": [
            "Training: 100%|██████████| 63/63 [00:01<00:00, 34.34it/s]\n"
          ]
        },
        {
          "output_type": "stream",
          "name": "stdout",
          "text": [
            "Loss: 0.2734875733417178\n"
          ]
        },
        {
          "output_type": "stream",
          "name": "stderr",
          "text": [
            "Generating Pseudo-Labels: 100%|██████████| 719/719 [00:14<00:00, 49.00it/s]\n",
            "Training: 100%|██████████| 517/517 [00:06<00:00, 78.73it/s]\n"
          ]
        },
        {
          "output_type": "stream",
          "name": "stdout",
          "text": [
            "Loss: 0.3562145724863794\n",
            "Test Accuracy: 57.37%\n"
          ]
        }
      ]
    }
  ]
}