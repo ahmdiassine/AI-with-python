{
  "nbformat": 4,
  "nbformat_minor": 0,
  "metadata": {
    "colab": {
      "provenance": []
    },
    "kernelspec": {
      "name": "python3",
      "display_name": "Python 3"
    },
    "language_info": {
      "name": "python"
    }
  },
  "cells": [
    {
      "cell_type": "markdown",
      "source": [
        "# **Class Imbalance  in MNIST dataset**"
      ],
      "metadata": {
        "id": "2hYootu6KRjT"
      }
    },
    {
      "cell_type": "markdown",
      "source": [
        "The network was trained using the criteria specified in the paper **\"A Systematic Study of the Class Imbalance Problem in Convolutional Neural Networks\"** by Mateusz Buda, Atsuto Maki, and Maciej A. Mazurowski, for a total of 10,000 iterations. The optimization was performed with stochastic gradient descent (SGD) and a momentum value of `μ = 0.9`. The learning rate decay followed the policy `η_t = η_0 * (1 + γ * t)^(-α)`, where the base learning rate `η_0 = 0.01`, with decay parameters `γ = 0.0001` and `α = 0.75`, and `t` is the current iteration. A `batch size of 64` and a weight decay value of `λ = 0.0005` were used. Network weights were initialized with a uniform distribution with Xavier variance, while biases were initialized to zero.\n",
        "\n",
        " `Imbalance ratio = 1000`\n",
        "\n",
        " `Number of minority classes = 8`\n",
        "\n",
        "## The obtained reults from one experiment:\n",
        "\n",
        "* **Baseline:**\n",
        "   __  ROC AUC = 0.9783  ____  Accuracy: 0.6558    \n",
        "\n",
        "* **Oversampling:**\n",
        "   __  ROC AUC = 0.9652  ____  Accuracy: 0.7416  "
      ],
      "metadata": {
        "id": "9wG8tbQYIIo_"
      }
    },
    {
      "cell_type": "markdown",
      "source": [
        "#  Define the LeNet-5 Network"
      ],
      "metadata": {
        "id": "AeDPnIonAIBL"
      }
    },
    {
      "cell_type": "code",
      "source": [
        "import torch\n",
        "import torch.nn as nn\n",
        "import torch.nn.functional as F\n",
        "\n",
        "class LeNet5(nn.Module):\n",
        "    def __init__(self):\n",
        "        super(LeNet5, self).__init__()\n",
        "        self.conv1 = nn.Conv2d(in_channels=1, out_channels=20, kernel_size=5, stride=1, padding=0)\n",
        "        self.pool = nn.MaxPool2d(kernel_size=2, stride=2, padding=0)\n",
        "        self.conv2 = nn.Conv2d(in_channels=20, out_channels=50, kernel_size=5, stride=1, padding=0)\n",
        "        self.fc1 = nn.Linear(50 * 4 * 4, 500)\n",
        "        self.fc2 = nn.Linear(500, 10)\n",
        "\n",
        "        self._initialize_weights()\n",
        "\n",
        "    def forward(self, x):\n",
        "        x = self.pool(F.relu(self.conv1(x)))\n",
        "        x = self.pool(F.relu(self.conv2(x)))\n",
        "        x = x.view(-1, 50 * 4 * 4)  # Flatten the tensor\n",
        "        x = F.relu(self.fc1(x))\n",
        "        x = self.fc2(x)\n",
        "        return x\n",
        "\n",
        "    def _initialize_weights(self):\n",
        "        # Xavier Initialization for weights\n",
        "        for m in self.modules():\n",
        "            if isinstance(m, nn.Conv2d) or isinstance(m, nn.Linear):\n",
        "                nn.init.xavier_uniform_(m.weight)\n",
        "                if m.bias is not None:\n",
        "                    m.bias.data.fill_(0)\n"
      ],
      "metadata": {
        "id": "pgFm2oS-DLNa"
      },
      "execution_count": 1,
      "outputs": []
    },
    {
      "cell_type": "markdown",
      "source": [
        "#  Define the Learning Rate Scheduler\n"
      ],
      "metadata": {
        "id": "-1QamQoWGcu2"
      }
    },
    {
      "cell_type": "code",
      "source": [
        "class CustomLRScheduler:\n",
        "    def __init__(self, optimizer, base_lr=0.01, gamma=0.0001, alpha=0.75):\n",
        "        self.optimizer = optimizer\n",
        "        self.base_lr = base_lr\n",
        "        self.gamma = gamma\n",
        "        self.alpha = alpha\n",
        "        self.iteration = 0\n",
        "\n",
        "    def step(self):\n",
        "        self.iteration += 1\n",
        "        lr = self.base_lr * (1 + self.gamma * self.iteration) ** (-self.alpha)\n",
        "        for param_group in self.optimizer.param_groups:\n",
        "            param_group['lr'] = lr\n"
      ],
      "metadata": {
        "id": "HhXnjhBMDW9X"
      },
      "execution_count": 2,
      "outputs": []
    },
    {
      "cell_type": "markdown",
      "source": [
        "# Set Up Data Loaders   (baseline)"
      ],
      "metadata": {
        "id": "ZCgAluO1GjA6"
      }
    },
    {
      "cell_type": "code",
      "source": [
        "import torch\n",
        "from torchvision import datasets, transforms\n",
        "from torch.utils.data import Dataset, DataLoader, Subset\n",
        "import numpy as np\n",
        "\n",
        "# Define transform for normalization\n",
        "transform = transforms.Compose([\n",
        "    transforms.ToTensor(),\n",
        "    transforms.Normalize((0.1307,), (0.3081,))\n",
        "])\n",
        "\n",
        "# Load the MNIST dataset\n",
        "mnist = datasets.MNIST(root='./data', train=True, download=True, transform=transform)\n",
        "test_dataset = datasets.MNIST(root='./data', train=False, download=True, transform=transform)\n",
        "testloader = DataLoader(test_dataset, batch_size=64, shuffle=False)\n",
        "\n",
        "# Generate a list of indices for the dataset\n",
        "ind = np.arange(len(mnist))\n",
        "# Shuffle the indices\n",
        "np.random.shuffle(ind)\n",
        "# Create a new Subset with the shuffled indices\n",
        "mnist0 = Subset(mnist, ind)\n",
        "mnist0.targets = mnist.targets\n",
        "\n",
        "# Filter indices for each class\n",
        "def filter_class_indices(dataset, class_label, num_samples):\n",
        "    indices = [i for i, target in enumerate(dataset.targets) if target == class_label]\n",
        "    # Shuffle indices\n",
        "    np.random.shuffle(indices)\n",
        "    return indices[:num_samples]\n",
        "\n",
        "# Define the number of samples per class\n",
        "# imbalance ratio = 1000\n",
        "# number of minority classes = 8\n",
        "num_samples_per_class = {\n",
        "    0: 5,\n",
        "    1: 5,\n",
        "    2: 5000,\n",
        "    3: 5,\n",
        "    4: 5,\n",
        "    5: 5,\n",
        "    6: 5,\n",
        "    7: 5000,\n",
        "    8: 5,\n",
        "    9: 5\n",
        "}\n",
        "\n",
        "# Create lists of indices for each class\n",
        "indices = []\n",
        "for class_label, num_samples in num_samples_per_class.items():\n",
        "    class_indices = filter_class_indices(mnist, class_label, num_samples)\n",
        "    indices.extend(class_indices)\n",
        "\n",
        "# Create the subset of the MNIST dataset with the specified samples\n",
        "subset = Subset(mnist, indices)\n",
        "# Create a DataLoader for the modified dataset\n",
        "batch_size = 64  # Set your batch size\n",
        "trainloader = DataLoader(subset, batch_size=batch_size, shuffle=True)\n",
        "\n"
      ],
      "metadata": {
        "id": "GtJpMylsettw"
      },
      "execution_count": 3,
      "outputs": []
    },
    {
      "cell_type": "code",
      "source": [
        "# Checking that the settings are correct.\n",
        "\n",
        "from collections import defaultdict\n",
        "\n",
        "class_counts = defaultdict(int)\n",
        "\n",
        "# Iterate over the data in the DataLoader\n",
        "for images, labels in trainloader:\n",
        "    # labels is a tensor of class indices\n",
        "    for label in labels:\n",
        "        class_counts[label.item()] += 1\n",
        "\n",
        "# Print out the number of samples for each class\n",
        "for class_label, count in class_counts.items():\n",
        "    print(f\"Class {class_label}: {count} samples\")"
      ],
      "metadata": {
        "colab": {
          "base_uri": "https://localhost:8080/"
        },
        "id": "r2iUqpp14e5I",
        "outputId": "b2ab99d6-b567-422e-d7df-e1a6d56002fc"
      },
      "execution_count": 28,
      "outputs": [
        {
          "output_type": "stream",
          "name": "stdout",
          "text": [
            "Class 7: 5000 samples\n",
            "Class 2: 5000 samples\n",
            "Class 3: 5 samples\n",
            "Class 0: 5 samples\n",
            "Class 8: 5 samples\n",
            "Class 5: 5 samples\n",
            "Class 9: 5 samples\n",
            "Class 1: 5 samples\n",
            "Class 4: 5 samples\n",
            "Class 6: 5 samples\n"
          ]
        }
      ]
    },
    {
      "cell_type": "markdown",
      "source": [
        "# Define Training and Evaluation Functions"
      ],
      "metadata": {
        "id": "TolQSA23GtUh"
      }
    },
    {
      "cell_type": "code",
      "source": [
        "import torch.optim as optim\n",
        "\n",
        "def train(model, trainloader, criterion, optimizer, scheduler, device, num_iterations):\n",
        "    model.train()\n",
        "    running_loss = 0.0\n",
        "    iteration_count = 0\n",
        "\n",
        "    for epoch in range(num_iterations):\n",
        "        for images, labels in trainloader:\n",
        "            images, labels = images.to(device), labels.to(device)\n",
        "\n",
        "            optimizer.zero_grad()\n",
        "\n",
        "            outputs = model(images)\n",
        "            loss = criterion(outputs, labels)\n",
        "            loss.backward()\n",
        "            optimizer.step()\n",
        "            scheduler.step()\n",
        "\n",
        "            running_loss += loss.item() * images.size(0)\n",
        "            iteration_count += 1\n",
        "\n",
        "            # Print the loss and accuracy every 1000 iterations\n",
        "            if iteration_count % 1000 == 0:\n",
        "                train_loss = running_loss / (iteration_count * 64)  # 64 is the batch size\n",
        "                accuracy = evaluate(model, testloader, device)\n",
        "                print(f'Iteration {iteration_count}/{num_iterations}, Loss: {train_loss:.4f}, Accuracy: {accuracy:.4f}')\n",
        "\n",
        "            if iteration_count >= num_iterations:\n",
        "                break\n",
        "        if iteration_count >= num_iterations:\n",
        "            break\n",
        "\n",
        "    epoch_loss = running_loss / (iteration_count * 64)  # 64 is the batch size\n",
        "    return epoch_loss\n",
        "\n",
        "\n",
        "def evaluate(model, testloader, device):\n",
        "    model.eval()\n",
        "    correct = 0\n",
        "    total = 0\n",
        "    with torch.no_grad():\n",
        "        for images, labels in testloader:\n",
        "            images, labels = images.to(device), labels.to(device)\n",
        "            outputs = model(images)\n",
        "            _, predicted = torch.max(outputs, 1)\n",
        "            total += labels.size(0)\n",
        "            correct += (predicted == labels).sum().item()\n",
        "\n",
        "    accuracy = correct / total\n",
        "    return accuracy\n"
      ],
      "metadata": {
        "id": "1EzspfTZDd08"
      },
      "execution_count": 5,
      "outputs": []
    },
    {
      "cell_type": "markdown",
      "source": [
        "#Training the Model (baseline)"
      ],
      "metadata": {
        "id": "khXfByuuGxiI"
      }
    },
    {
      "cell_type": "code",
      "source": [
        "device = torch.device('cuda' if torch.cuda.is_available() else 'cpu')\n",
        "model = LeNet5().to(device)\n",
        "\n",
        "# Define the optimizer with weight decay\n",
        "optimizer = optim.SGD(model.parameters(), lr=0.01, momentum=0.9, weight_decay=0.0005)\n",
        "scheduler = CustomLRScheduler(optimizer, base_lr=0.01, gamma=0.0001, alpha=0.75)\n",
        "\n",
        "criterion = nn.CrossEntropyLoss()\n",
        "num_iterations = 10000\n",
        "\n",
        "train_loss = train(model, trainloader, criterion, optimizer, scheduler, device, num_iterations)\n"
      ],
      "metadata": {
        "colab": {
          "base_uri": "https://localhost:8080/"
        },
        "id": "JIUCCpcsDiaL",
        "outputId": "94e797c2-bcb4-4ebc-ed58-13c3a9cca06f"
      },
      "execution_count": 6,
      "outputs": [
        {
          "output_type": "stream",
          "name": "stdout",
          "text": [
            "Iteration 1000/10000, Loss: 0.0480, Accuracy: 0.3254\n",
            "Iteration 2000/10000, Loss: 0.0282, Accuracy: 0.5652\n",
            "Iteration 3000/10000, Loss: 0.0196, Accuracy: 0.6095\n",
            "Iteration 4000/10000, Loss: 0.0149, Accuracy: 0.6128\n",
            "Iteration 5000/10000, Loss: 0.0121, Accuracy: 0.6274\n",
            "Iteration 6000/10000, Loss: 0.0102, Accuracy: 0.6654\n",
            "Iteration 7000/10000, Loss: 0.0088, Accuracy: 0.6693\n",
            "Iteration 8000/10000, Loss: 0.0078, Accuracy: 0.6371\n",
            "Iteration 9000/10000, Loss: 0.0070, Accuracy: 0.6462\n",
            "Iteration 10000/10000, Loss: 0.0063, Accuracy: 0.6558\n"
          ]
        }
      ]
    },
    {
      "cell_type": "markdown",
      "source": [
        "# Compute ROC Curve and AUC (baseline)"
      ],
      "metadata": {
        "id": "9T0MXpZNitdD"
      }
    },
    {
      "cell_type": "code",
      "source": [
        "def predict_scores(model, testloader, device):\n",
        "    model.eval()\n",
        "    outputs = []\n",
        "    test_labels = []\n",
        "    with torch.no_grad():\n",
        "        for images, labels in testloader:\n",
        "            images, labels = images.to(device), labels.to(device)\n",
        "            outputs.append(model(images))\n",
        "            test_labels.append(labels)\n",
        "\n",
        "\n",
        "    #accuracy = correct / total\n",
        "    return outputs , test_labels\n",
        "\n",
        "y_score , test_labels = predict_scores(model, testloader, device)\n",
        "\n",
        "# Concatenate tensors along the 0th dimension (default)\n",
        "y_score = torch.cat(y_score)\n",
        "test_labels = torch.cat(test_labels)\n",
        "print(y_score.shape)\n",
        "print(test_labels.shape)"
      ],
      "metadata": {
        "colab": {
          "base_uri": "https://localhost:8080/"
        },
        "id": "T86uVqNttCNl",
        "outputId": "d32f07e5-44b8-41c7-ab53-afaa80854f05"
      },
      "execution_count": 18,
      "outputs": [
        {
          "output_type": "stream",
          "name": "stdout",
          "text": [
            "torch.Size([10000, 10])\n",
            "torch.Size([10000])\n"
          ]
        }
      ]
    },
    {
      "cell_type": "code",
      "source": [
        "from sklearn.preprocessing import label_binarize\n",
        "from sklearn.metrics import roc_curve, auc\n",
        "from sklearn.metrics import roc_auc_score\n",
        "\n",
        "# Binarize the output labels for the multi-class case\n",
        "y_test_bin = label_binarize(test_labels, classes=np.unique(test_labels))\n",
        "n_classes = y_test_bin.shape[1]\n",
        "\n",
        "# Compute ROC AUC for each class\n",
        "roc_auc = {}\n",
        "for i in range(n_classes):\n",
        "    fpr, tpr, _ = roc_curve(y_test_bin[:, i], y_score[:, i])\n",
        "    roc_auc[i] = auc(fpr, tpr)\n",
        "\n",
        "# Compute the average AUC\n",
        "average_auc = np.mean(list(roc_auc.values()))\n",
        "\n",
        "print(f'Average AUC: {average_auc:.4f}')"
      ],
      "metadata": {
        "colab": {
          "base_uri": "https://localhost:8080/"
        },
        "id": "EjKzmW0nyq7o",
        "outputId": "f5083397-54b6-4b5a-dee9-79c8c5db9f57"
      },
      "execution_count": 19,
      "outputs": [
        {
          "output_type": "stream",
          "name": "stdout",
          "text": [
            "Average AUC: 0.9783\n"
          ]
        }
      ]
    },
    {
      "cell_type": "markdown",
      "source": [
        "# Plot ROC Curves"
      ],
      "metadata": {
        "id": "FfO2Mn41AgCt"
      }
    },
    {
      "cell_type": "code",
      "source": [
        "import matplotlib.pyplot as plt\n",
        "\n",
        "plt.figure()\n",
        "for i in range(n_classes):\n",
        "    fpr, tpr, _ = roc_curve(y_test_bin[:, i], y_score[:, i])\n",
        "    plt.plot(fpr, tpr, label=f'Class {i} (AUC = {roc_auc[i]:.2f})')\n",
        "\n",
        "plt.plot([0, 1], [0, 1], 'k--')\n",
        "plt.xlim([0.0, 1.0])\n",
        "plt.ylim([0.0, 1.05])\n",
        "plt.xlabel('False Positive Rate')\n",
        "plt.ylabel('True Positive Rate')\n",
        "plt.title('Receiver Operating Characteristic (ROC) Curve')\n",
        "plt.legend(loc='lower right')\n",
        "plt.show()"
      ],
      "metadata": {
        "colab": {
          "base_uri": "https://localhost:8080/",
          "height": 472
        },
        "id": "ZDZWCorPngy-",
        "outputId": "8bd9c870-c484-48eb-a291-5a533b3c45ef"
      },
      "execution_count": 16,
      "outputs": [
        {
          "output_type": "display_data",
          "data": {
            "text/plain": [
              "<Figure size 640x480 with 1 Axes>"
            ],
            "image/png": "[encoded data removed]"
          },
          "metadata": {}
        }
      ]
    },
    {
      "cell_type": "markdown",
      "source": [
        "# Set Up Data Loaders   (oversampling)"
      ],
      "metadata": {
        "id": "bjaDP39GGM2_"
      }
    },
    {
      "cell_type": "code",
      "source": [
        "num_samples_per_class = {\n",
        "    0: 5,\n",
        "    1: 5,\n",
        "    2: 5000,\n",
        "    3: 5,\n",
        "    4: 5,\n",
        "    5: 5,\n",
        "    6: 5,\n",
        "    7: 5000,\n",
        "    8: 5,\n",
        "    9: 5\n",
        "}\n",
        "\n",
        "# Get the maximum number of samples across all classes\n",
        "max_samples = max(num_samples_per_class.values())\n",
        "\n",
        "# Create lists of indices for each class\n",
        "indices = []\n",
        "for class_label, num_samples in num_samples_per_class.items():\n",
        "    # Get the indices for the current class\n",
        "    class_indices = filter_class_indices(mnist, class_label, num_samples)\n",
        "\n",
        "    # Determine how many times to repeat the indices to match max_samples\n",
        "    repeat_times = (max_samples + len(class_indices) - 1) // len(class_indices)  # Calculate ceiling of max_samples / len(class_indices)\n",
        "\n",
        "    # Repeat the class indices and truncate to the required number of samples\n",
        "    balanced_class_indices = (class_indices * repeat_times)[:max_samples]\n",
        "\n",
        "    # Extend the indices list with the balanced indices\n",
        "    indices.extend(balanced_class_indices)\n",
        "\n",
        "print(len(indices))\n",
        "\n",
        "\n",
        "# Create the subset of the MNIST dataset with the specified samples\n",
        "subset = Subset(mnist, indices)\n",
        "# Create a DataLoader for the modified dataset\n",
        "batch_size = 64  # Set your batch size\n",
        "trainloader_oversampling = DataLoader(subset, batch_size=batch_size, shuffle=True)"
      ],
      "metadata": {
        "colab": {
          "base_uri": "https://localhost:8080/"
        },
        "id": "3PiLsuwtMLdx",
        "outputId": "4a9a8513-5ac7-4fe9-c30c-956dd7011d80"
      },
      "execution_count": 26,
      "outputs": [
        {
          "output_type": "stream",
          "name": "stdout",
          "text": [
            "50000\n"
          ]
        }
      ]
    },
    {
      "cell_type": "markdown",
      "source": [
        "# Train model  (oversampling)"
      ],
      "metadata": {
        "id": "cpw86e8CO6Yw"
      }
    },
    {
      "cell_type": "code",
      "source": [
        "\n",
        "\n",
        "device = torch.device('cuda' if torch.cuda.is_available() else 'cpu')\n",
        "model = LeNet5().to(device)\n",
        "\n",
        "# Define the optimizer with weight decay\n",
        "optimizer = optim.SGD(model.parameters(), lr=0.01, momentum=0.9, weight_decay=0.0005)\n",
        "scheduler = CustomLRScheduler(optimizer, base_lr=0.01, gamma=0.0001, alpha=0.75)\n",
        "\n",
        "criterion = nn.CrossEntropyLoss()\n",
        "num_iterations = 10000\n",
        "\n",
        "train_loss = train(model, trainloader_oversampling, criterion, optimizer, scheduler, device, num_iterations)"
      ],
      "metadata": {
        "colab": {
          "base_uri": "https://localhost:8080/"
        },
        "id": "E8AcgiqDGQ9F",
        "outputId": "b7ec6299-05a6-4511-e725-062ab05ddccd"
      },
      "execution_count": 29,
      "outputs": [
        {
          "output_type": "stream",
          "name": "stdout",
          "text": [
            "Iteration 1000/10000, Loss: 0.0442, Accuracy: 0.7156\n",
            "Iteration 2000/10000, Loss: 0.0241, Accuracy: 0.7203\n",
            "Iteration 3000/10000, Loss: 0.0171, Accuracy: 0.7178\n",
            "Iteration 4000/10000, Loss: 0.0134, Accuracy: 0.7174\n",
            "Iteration 5000/10000, Loss: 0.0111, Accuracy: 0.6964\n",
            "Iteration 6000/10000, Loss: 0.0096, Accuracy: 0.7269\n",
            "Iteration 7000/10000, Loss: 0.0084, Accuracy: 0.7215\n",
            "Iteration 8000/10000, Loss: 0.0076, Accuracy: 0.7238\n",
            "Iteration 9000/10000, Loss: 0.0069, Accuracy: 0.7131\n",
            "Iteration 10000/10000, Loss: 0.0063, Accuracy: 0.7416\n"
          ]
        }
      ]
    },
    {
      "cell_type": "markdown",
      "source": [
        "# Compute ROC Curve and AUC (oversampling)"
      ],
      "metadata": {
        "id": "fpyG25fpPwQv"
      }
    },
    {
      "cell_type": "code",
      "source": [
        "y_score , test_labels = predict_scores(model, testloader, device)\n",
        "\n",
        "# Concatenate tensors along the 0th dimension (default)\n",
        "y_score = torch.cat(y_score)\n",
        "test_labels = torch.cat(test_labels)\n",
        "\n",
        "from sklearn.preprocessing import label_binarize\n",
        "from sklearn.metrics import roc_curve, auc\n",
        "from sklearn.metrics import roc_auc_score\n",
        "\n",
        "# Binarize the output labels for the multi-class case\n",
        "y_test_bin = label_binarize(test_labels, classes=np.unique(test_labels))\n",
        "n_classes = y_test_bin.shape[1]\n",
        "\n",
        "# Compute ROC AUC for each class\n",
        "roc_auc = {}\n",
        "for i in range(n_classes):\n",
        "    fpr, tpr, _ = roc_curve(y_test_bin[:, i], y_score[:, i])\n",
        "    roc_auc[i] = auc(fpr, tpr)\n",
        "\n",
        "# Compute the average AUC\n",
        "average_auc = np.mean(list(roc_auc.values()))\n",
        "\n",
        "print(f'Average AUC: {average_auc:.4f}')\n",
        "\n"
      ],
      "metadata": {
        "colab": {
          "base_uri": "https://localhost:8080/"
        },
        "id": "6iX0cV1vPw4G",
        "outputId": "01c2f269-bad3-44db-d38f-64dfabc20bc1"
      },
      "execution_count": 31,
      "outputs": [
        {
          "output_type": "stream",
          "name": "stdout",
          "text": [
            "Average AUC: 0.9652\n"
          ]
        }
      ]
    }
  ]
}